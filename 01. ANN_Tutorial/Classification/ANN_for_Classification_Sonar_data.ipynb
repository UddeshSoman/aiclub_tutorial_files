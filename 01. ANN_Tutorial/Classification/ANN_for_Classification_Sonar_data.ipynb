{
  "nbformat": 4,
  "nbformat_minor": 0,
  "metadata": {
    "colab": {
      "name": "ANN for Classification.ipynb",
      "provenance": [],
      "collapsed_sections": [
        "51YOytIqXXyP"
      ]
    },
    "kernelspec": {
      "name": "python3",
      "display_name": "Python 3"
    },
    "language_info": {
      "name": "python"
    },
    "accelerator": "GPU"
  },
  "cells": [
    {
      "cell_type": "markdown",
      "source": [
        "# SONAR DATA\n",
        "\n",
        "The file \"sonar.mines\" contains 111 patterns obtained by bouncing sonar signals off a metal cylinder at various angles and under various conditions. The file \"sonar.rocks\" contains 97 patterns obtained from rocks under similar conditions. The transmitted sonar signal is a frequency-modulated chirp, rising in frequency. The data set contains signals obtained from a variety of different aspect angles, spanning 90 degrees for the cylinder and 180 degrees for the rock.\n",
        "\n",
        "Each pattern is a set of 60 numbers in the range 0.0 to 1.0. Each number represents the energy within a particular frequency band, integrated over a certain period of time. The integration aperture for higher frequencies occur later in time, since these frequencies are transmitted later during the chirp.\n",
        "\n",
        "The label associated with each record contains the letter \"R\" if the object is a rock and \"M\" if it is a mine (metal cylinder). The numbers in the labels are in increasing order of aspect angle, but they do not encode the angle directly."
      ],
      "metadata": {
        "id": "5f-V43dM3Y_Q"
      }
    },
    {
      "cell_type": "code",
      "execution_count": 2,
      "metadata": {
        "colab": {
          "base_uri": "https://localhost:8080/"
        },
        "id": "OH9o28pf3U4s",
        "outputId": "52791358-56bc-40a3-de73-dac03f5243b1"
      },
      "outputs": [
        {
          "output_type": "stream",
          "name": "stdout",
          "text": [
            "Sun Feb 20 08:00:27 2022       \n",
            "+-----------------------------------------------------------------------------+\n",
            "| NVIDIA-SMI 460.32.03    Driver Version: 460.32.03    CUDA Version: 11.2     |\n",
            "|-------------------------------+----------------------+----------------------+\n",
            "| GPU  Name        Persistence-M| Bus-Id        Disp.A | Volatile Uncorr. ECC |\n",
            "| Fan  Temp  Perf  Pwr:Usage/Cap|         Memory-Usage | GPU-Util  Compute M. |\n",
            "|                               |                      |               MIG M. |\n",
            "|===============================+======================+======================|\n",
            "|   0  Tesla K80           Off  | 00000000:00:04.0 Off |                    0 |\n",
            "| N/A   35C    P8    28W / 149W |      0MiB / 11441MiB |      0%      Default |\n",
            "|                               |                      |                  N/A |\n",
            "+-------------------------------+----------------------+----------------------+\n",
            "                                                                               \n",
            "+-----------------------------------------------------------------------------+\n",
            "| Processes:                                                                  |\n",
            "|  GPU   GI   CI        PID   Type   Process name                  GPU Memory |\n",
            "|        ID   ID                                                   Usage      |\n",
            "|=============================================================================|\n",
            "|  No running processes found                                                 |\n",
            "+-----------------------------------------------------------------------------+\n"
          ]
        }
      ],
      "source": [
        "gpu_info = !nvidia-smi\n",
        "gpu_info = '\\n'.join(gpu_info)\n",
        "if gpu_info.find('failed') >= 0:\n",
        "  print('Not connected to a GPU')\n",
        "else:\n",
        "  print(gpu_info)"
      ]
    },
    {
      "cell_type": "code",
      "source": [
        "from google.colab import drive\n",
        "drive.mount('/content/drive')"
      ],
      "metadata": {
        "colab": {
          "base_uri": "https://localhost:8080/"
        },
        "id": "12KV7Aqr3mbO",
        "outputId": "f7a81ab3-bb1c-46ea-836c-a333d6c6efcb"
      },
      "execution_count": 4,
      "outputs": [
        {
          "output_type": "stream",
          "name": "stdout",
          "text": [
            "Mounted at /content/drive\n"
          ]
        }
      ]
    },
    {
      "cell_type": "markdown",
      "source": [
        "# Starting\n"
      ],
      "metadata": {
        "id": "51YOytIqXXyP"
      }
    },
    {
      "cell_type": "code",
      "source": [
        "# importing required libraries\n",
        "import numpy as np, pandas as pd, matplotlib.pyplot as plt, seaborn as sns\n",
        "# Inline plotting\n",
        "%matplotlib inline"
      ],
      "metadata": {
        "id": "x62kQAHyXjQX"
      },
      "execution_count": 5,
      "outputs": []
    },
    {
      "cell_type": "code",
      "execution_count": 6,
      "metadata": {
        "id": "YvicpvvxUasZ"
      },
      "outputs": [],
      "source": [
        "# following code will prevent unnecessary warnings\n",
        "import warnings\n",
        "warnings.filterwarnings('ignore')"
      ]
    },
    {
      "cell_type": "code",
      "source": [
        "# importing the dataset\n",
        "data = pd.read_excel('/content/drive/MyDrive/Datasets/sonar data.xlsx')\n",
        "# seeing the first 5 rows to see the data.\n",
        "data.head()"
      ],
      "metadata": {
        "colab": {
          "base_uri": "https://localhost:8080/",
          "height": 0
        },
        "id": "O_Qyg8N2YdwP",
        "outputId": "ed8618d3-cb76-4ed0-8e03-95fbb94a1993"
      },
      "execution_count": 7,
      "outputs": [
        {
          "output_type": "execute_result",
          "data": {
            "text/html": [
              "\n",
              "  <div id=\"df-f30ee989-6269-4c34-8951-19370141a81b\">\n",
              "    <div class=\"colab-df-container\">\n",
              "      <div>\n",
              "<style scoped>\n",
              "    .dataframe tbody tr th:only-of-type {\n",
              "        vertical-align: middle;\n",
              "    }\n",
              "\n",
              "    .dataframe tbody tr th {\n",
              "        vertical-align: top;\n",
              "    }\n",
              "\n",
              "    .dataframe thead th {\n",
              "        text-align: right;\n",
              "    }\n",
              "</style>\n",
              "<table border=\"1\" class=\"dataframe\">\n",
              "  <thead>\n",
              "    <tr style=\"text-align: right;\">\n",
              "      <th></th>\n",
              "      <th>A1</th>\n",
              "      <th>A2</th>\n",
              "      <th>A3</th>\n",
              "      <th>A4</th>\n",
              "      <th>A5</th>\n",
              "      <th>A6</th>\n",
              "      <th>A7</th>\n",
              "      <th>A8</th>\n",
              "      <th>A9</th>\n",
              "      <th>A10</th>\n",
              "      <th>A11</th>\n",
              "      <th>A12</th>\n",
              "      <th>A13</th>\n",
              "      <th>A14</th>\n",
              "      <th>A15</th>\n",
              "      <th>A16</th>\n",
              "      <th>A17</th>\n",
              "      <th>A18</th>\n",
              "      <th>A19</th>\n",
              "      <th>A20</th>\n",
              "      <th>A21</th>\n",
              "      <th>A22</th>\n",
              "      <th>A23</th>\n",
              "      <th>A24</th>\n",
              "      <th>A25</th>\n",
              "      <th>A26</th>\n",
              "      <th>A27</th>\n",
              "      <th>A28</th>\n",
              "      <th>A29</th>\n",
              "      <th>A30</th>\n",
              "      <th>A31</th>\n",
              "      <th>A32</th>\n",
              "      <th>A33</th>\n",
              "      <th>A34</th>\n",
              "      <th>A35</th>\n",
              "      <th>A36</th>\n",
              "      <th>A37</th>\n",
              "      <th>A38</th>\n",
              "      <th>A39</th>\n",
              "      <th>A40</th>\n",
              "      <th>A41</th>\n",
              "      <th>A42</th>\n",
              "      <th>A43</th>\n",
              "      <th>A44</th>\n",
              "      <th>A45</th>\n",
              "      <th>A46</th>\n",
              "      <th>A47</th>\n",
              "      <th>A48</th>\n",
              "      <th>A49</th>\n",
              "      <th>A50</th>\n",
              "      <th>A51</th>\n",
              "      <th>A52</th>\n",
              "      <th>A53</th>\n",
              "      <th>A54</th>\n",
              "      <th>A55</th>\n",
              "      <th>A56</th>\n",
              "      <th>A57</th>\n",
              "      <th>A58</th>\n",
              "      <th>A59</th>\n",
              "      <th>A60</th>\n",
              "      <th>Target</th>\n",
              "    </tr>\n",
              "  </thead>\n",
              "  <tbody>\n",
              "    <tr>\n",
              "      <th>0</th>\n",
              "      <td>0.0200</td>\n",
              "      <td>0.0371</td>\n",
              "      <td>0.0428</td>\n",
              "      <td>0.0207</td>\n",
              "      <td>0.0954</td>\n",
              "      <td>0.0986</td>\n",
              "      <td>0.1539</td>\n",
              "      <td>0.1601</td>\n",
              "      <td>0.3109</td>\n",
              "      <td>0.2111</td>\n",
              "      <td>0.1609</td>\n",
              "      <td>0.1582</td>\n",
              "      <td>0.2238</td>\n",
              "      <td>0.0645</td>\n",
              "      <td>0.0660</td>\n",
              "      <td>0.2273</td>\n",
              "      <td>0.3100</td>\n",
              "      <td>0.2999</td>\n",
              "      <td>0.5078</td>\n",
              "      <td>0.4797</td>\n",
              "      <td>0.5783</td>\n",
              "      <td>0.5071</td>\n",
              "      <td>0.4328</td>\n",
              "      <td>0.5550</td>\n",
              "      <td>0.6711</td>\n",
              "      <td>0.6415</td>\n",
              "      <td>0.7104</td>\n",
              "      <td>0.8080</td>\n",
              "      <td>0.6791</td>\n",
              "      <td>0.3857</td>\n",
              "      <td>0.1307</td>\n",
              "      <td>0.2604</td>\n",
              "      <td>0.5121</td>\n",
              "      <td>0.7547</td>\n",
              "      <td>0.8537</td>\n",
              "      <td>0.8507</td>\n",
              "      <td>0.6692</td>\n",
              "      <td>0.6097</td>\n",
              "      <td>0.4943</td>\n",
              "      <td>0.2744</td>\n",
              "      <td>0.0510</td>\n",
              "      <td>0.2834</td>\n",
              "      <td>0.2825</td>\n",
              "      <td>0.4256</td>\n",
              "      <td>0.2641</td>\n",
              "      <td>0.1386</td>\n",
              "      <td>0.1051</td>\n",
              "      <td>0.1343</td>\n",
              "      <td>0.0383</td>\n",
              "      <td>0.0324</td>\n",
              "      <td>0.0232</td>\n",
              "      <td>0.0027</td>\n",
              "      <td>0.0065</td>\n",
              "      <td>0.0159</td>\n",
              "      <td>0.0072</td>\n",
              "      <td>0.0167</td>\n",
              "      <td>0.0180</td>\n",
              "      <td>0.0084</td>\n",
              "      <td>0.0090</td>\n",
              "      <td>0.0032</td>\n",
              "      <td>R</td>\n",
              "    </tr>\n",
              "    <tr>\n",
              "      <th>1</th>\n",
              "      <td>0.0453</td>\n",
              "      <td>0.0523</td>\n",
              "      <td>0.0843</td>\n",
              "      <td>0.0689</td>\n",
              "      <td>0.1183</td>\n",
              "      <td>0.2583</td>\n",
              "      <td>0.2156</td>\n",
              "      <td>0.3481</td>\n",
              "      <td>0.3337</td>\n",
              "      <td>0.2872</td>\n",
              "      <td>0.4918</td>\n",
              "      <td>0.6552</td>\n",
              "      <td>0.6919</td>\n",
              "      <td>0.7797</td>\n",
              "      <td>0.7464</td>\n",
              "      <td>0.9444</td>\n",
              "      <td>1.0000</td>\n",
              "      <td>0.8874</td>\n",
              "      <td>0.8024</td>\n",
              "      <td>0.7818</td>\n",
              "      <td>0.5212</td>\n",
              "      <td>0.4052</td>\n",
              "      <td>0.3957</td>\n",
              "      <td>0.3914</td>\n",
              "      <td>0.3250</td>\n",
              "      <td>0.3200</td>\n",
              "      <td>0.3271</td>\n",
              "      <td>0.2767</td>\n",
              "      <td>0.4423</td>\n",
              "      <td>0.2028</td>\n",
              "      <td>0.3788</td>\n",
              "      <td>0.2947</td>\n",
              "      <td>0.1984</td>\n",
              "      <td>0.2341</td>\n",
              "      <td>0.1306</td>\n",
              "      <td>0.4182</td>\n",
              "      <td>0.3835</td>\n",
              "      <td>0.1057</td>\n",
              "      <td>0.1840</td>\n",
              "      <td>0.1970</td>\n",
              "      <td>0.1674</td>\n",
              "      <td>0.0583</td>\n",
              "      <td>0.1401</td>\n",
              "      <td>0.1628</td>\n",
              "      <td>0.0621</td>\n",
              "      <td>0.0203</td>\n",
              "      <td>0.0530</td>\n",
              "      <td>0.0742</td>\n",
              "      <td>0.0409</td>\n",
              "      <td>0.0061</td>\n",
              "      <td>0.0125</td>\n",
              "      <td>0.0084</td>\n",
              "      <td>0.0089</td>\n",
              "      <td>0.0048</td>\n",
              "      <td>0.0094</td>\n",
              "      <td>0.0191</td>\n",
              "      <td>0.0140</td>\n",
              "      <td>0.0049</td>\n",
              "      <td>0.0052</td>\n",
              "      <td>0.0044</td>\n",
              "      <td>R</td>\n",
              "    </tr>\n",
              "    <tr>\n",
              "      <th>2</th>\n",
              "      <td>0.0262</td>\n",
              "      <td>0.0582</td>\n",
              "      <td>0.1099</td>\n",
              "      <td>0.1083</td>\n",
              "      <td>0.0974</td>\n",
              "      <td>0.2280</td>\n",
              "      <td>0.2431</td>\n",
              "      <td>0.3771</td>\n",
              "      <td>0.5598</td>\n",
              "      <td>0.6194</td>\n",
              "      <td>0.6333</td>\n",
              "      <td>0.7060</td>\n",
              "      <td>0.5544</td>\n",
              "      <td>0.5320</td>\n",
              "      <td>0.6479</td>\n",
              "      <td>0.6931</td>\n",
              "      <td>0.6759</td>\n",
              "      <td>0.7551</td>\n",
              "      <td>0.8929</td>\n",
              "      <td>0.8619</td>\n",
              "      <td>0.7974</td>\n",
              "      <td>0.6737</td>\n",
              "      <td>0.4293</td>\n",
              "      <td>0.3648</td>\n",
              "      <td>0.5331</td>\n",
              "      <td>0.2413</td>\n",
              "      <td>0.5070</td>\n",
              "      <td>0.8533</td>\n",
              "      <td>0.6036</td>\n",
              "      <td>0.8514</td>\n",
              "      <td>0.8512</td>\n",
              "      <td>0.5045</td>\n",
              "      <td>0.1862</td>\n",
              "      <td>0.2709</td>\n",
              "      <td>0.4232</td>\n",
              "      <td>0.3043</td>\n",
              "      <td>0.6116</td>\n",
              "      <td>0.6756</td>\n",
              "      <td>0.5375</td>\n",
              "      <td>0.4719</td>\n",
              "      <td>0.4647</td>\n",
              "      <td>0.2587</td>\n",
              "      <td>0.2129</td>\n",
              "      <td>0.2222</td>\n",
              "      <td>0.2111</td>\n",
              "      <td>0.0176</td>\n",
              "      <td>0.1348</td>\n",
              "      <td>0.0744</td>\n",
              "      <td>0.0130</td>\n",
              "      <td>0.0106</td>\n",
              "      <td>0.0033</td>\n",
              "      <td>0.0232</td>\n",
              "      <td>0.0166</td>\n",
              "      <td>0.0095</td>\n",
              "      <td>0.0180</td>\n",
              "      <td>0.0244</td>\n",
              "      <td>0.0316</td>\n",
              "      <td>0.0164</td>\n",
              "      <td>0.0095</td>\n",
              "      <td>0.0078</td>\n",
              "      <td>R</td>\n",
              "    </tr>\n",
              "    <tr>\n",
              "      <th>3</th>\n",
              "      <td>0.0100</td>\n",
              "      <td>0.0171</td>\n",
              "      <td>0.0623</td>\n",
              "      <td>0.0205</td>\n",
              "      <td>0.0205</td>\n",
              "      <td>0.0368</td>\n",
              "      <td>0.1098</td>\n",
              "      <td>0.1276</td>\n",
              "      <td>0.0598</td>\n",
              "      <td>0.1264</td>\n",
              "      <td>0.0881</td>\n",
              "      <td>0.1992</td>\n",
              "      <td>0.0184</td>\n",
              "      <td>0.2261</td>\n",
              "      <td>0.1729</td>\n",
              "      <td>0.2131</td>\n",
              "      <td>0.0693</td>\n",
              "      <td>0.2281</td>\n",
              "      <td>0.4060</td>\n",
              "      <td>0.3973</td>\n",
              "      <td>0.2741</td>\n",
              "      <td>0.3690</td>\n",
              "      <td>0.5556</td>\n",
              "      <td>0.4846</td>\n",
              "      <td>0.3140</td>\n",
              "      <td>0.5334</td>\n",
              "      <td>0.5256</td>\n",
              "      <td>0.2520</td>\n",
              "      <td>0.2090</td>\n",
              "      <td>0.3559</td>\n",
              "      <td>0.6260</td>\n",
              "      <td>0.7340</td>\n",
              "      <td>0.6120</td>\n",
              "      <td>0.3497</td>\n",
              "      <td>0.3953</td>\n",
              "      <td>0.3012</td>\n",
              "      <td>0.5408</td>\n",
              "      <td>0.8814</td>\n",
              "      <td>0.9857</td>\n",
              "      <td>0.9167</td>\n",
              "      <td>0.6121</td>\n",
              "      <td>0.5006</td>\n",
              "      <td>0.3210</td>\n",
              "      <td>0.3202</td>\n",
              "      <td>0.4295</td>\n",
              "      <td>0.3654</td>\n",
              "      <td>0.2655</td>\n",
              "      <td>0.1576</td>\n",
              "      <td>0.0681</td>\n",
              "      <td>0.0294</td>\n",
              "      <td>0.0241</td>\n",
              "      <td>0.0121</td>\n",
              "      <td>0.0036</td>\n",
              "      <td>0.0150</td>\n",
              "      <td>0.0085</td>\n",
              "      <td>0.0073</td>\n",
              "      <td>0.0050</td>\n",
              "      <td>0.0044</td>\n",
              "      <td>0.0040</td>\n",
              "      <td>0.0117</td>\n",
              "      <td>R</td>\n",
              "    </tr>\n",
              "    <tr>\n",
              "      <th>4</th>\n",
              "      <td>0.0762</td>\n",
              "      <td>0.0666</td>\n",
              "      <td>0.0481</td>\n",
              "      <td>0.0394</td>\n",
              "      <td>0.0590</td>\n",
              "      <td>0.0649</td>\n",
              "      <td>0.1209</td>\n",
              "      <td>0.2467</td>\n",
              "      <td>0.3564</td>\n",
              "      <td>0.4459</td>\n",
              "      <td>0.4152</td>\n",
              "      <td>0.3952</td>\n",
              "      <td>0.4256</td>\n",
              "      <td>0.4135</td>\n",
              "      <td>0.4528</td>\n",
              "      <td>0.5326</td>\n",
              "      <td>0.7306</td>\n",
              "      <td>0.6193</td>\n",
              "      <td>0.2032</td>\n",
              "      <td>0.4636</td>\n",
              "      <td>0.4148</td>\n",
              "      <td>0.4292</td>\n",
              "      <td>0.5730</td>\n",
              "      <td>0.5399</td>\n",
              "      <td>0.3161</td>\n",
              "      <td>0.2285</td>\n",
              "      <td>0.6995</td>\n",
              "      <td>1.0000</td>\n",
              "      <td>0.7262</td>\n",
              "      <td>0.4724</td>\n",
              "      <td>0.5103</td>\n",
              "      <td>0.5459</td>\n",
              "      <td>0.2881</td>\n",
              "      <td>0.0981</td>\n",
              "      <td>0.1951</td>\n",
              "      <td>0.4181</td>\n",
              "      <td>0.4604</td>\n",
              "      <td>0.3217</td>\n",
              "      <td>0.2828</td>\n",
              "      <td>0.2430</td>\n",
              "      <td>0.1979</td>\n",
              "      <td>0.2444</td>\n",
              "      <td>0.1847</td>\n",
              "      <td>0.0841</td>\n",
              "      <td>0.0692</td>\n",
              "      <td>0.0528</td>\n",
              "      <td>0.0357</td>\n",
              "      <td>0.0085</td>\n",
              "      <td>0.0230</td>\n",
              "      <td>0.0046</td>\n",
              "      <td>0.0156</td>\n",
              "      <td>0.0031</td>\n",
              "      <td>0.0054</td>\n",
              "      <td>0.0105</td>\n",
              "      <td>0.0110</td>\n",
              "      <td>0.0015</td>\n",
              "      <td>0.0072</td>\n",
              "      <td>0.0048</td>\n",
              "      <td>0.0107</td>\n",
              "      <td>0.0094</td>\n",
              "      <td>R</td>\n",
              "    </tr>\n",
              "  </tbody>\n",
              "</table>\n",
              "</div>\n",
              "      <button class=\"colab-df-convert\" onclick=\"convertToInteractive('df-f30ee989-6269-4c34-8951-19370141a81b')\"\n",
              "              title=\"Convert this dataframe to an interactive table.\"\n",
              "              style=\"display:none;\">\n",
              "        \n",
              "  <svg xmlns=\"http://www.w3.org/2000/svg\" height=\"24px\"viewBox=\"0 0 24 24\"\n",
              "       width=\"24px\">\n",
              "    <path d=\"M0 0h24v24H0V0z\" fill=\"none\"/>\n",
              "    <path d=\"M18.56 5.44l.94 2.06.94-2.06 2.06-.94-2.06-.94-.94-2.06-.94 2.06-2.06.94zm-11 1L8.5 8.5l.94-2.06 2.06-.94-2.06-.94L8.5 2.5l-.94 2.06-2.06.94zm10 10l.94 2.06.94-2.06 2.06-.94-2.06-.94-.94-2.06-.94 2.06-2.06.94z\"/><path d=\"M17.41 7.96l-1.37-1.37c-.4-.4-.92-.59-1.43-.59-.52 0-1.04.2-1.43.59L10.3 9.45l-7.72 7.72c-.78.78-.78 2.05 0 2.83L4 21.41c.39.39.9.59 1.41.59.51 0 1.02-.2 1.41-.59l7.78-7.78 2.81-2.81c.8-.78.8-2.07 0-2.86zM5.41 20L4 18.59l7.72-7.72 1.47 1.35L5.41 20z\"/>\n",
              "  </svg>\n",
              "      </button>\n",
              "      \n",
              "  <style>\n",
              "    .colab-df-container {\n",
              "      display:flex;\n",
              "      flex-wrap:wrap;\n",
              "      gap: 12px;\n",
              "    }\n",
              "\n",
              "    .colab-df-convert {\n",
              "      background-color: #E8F0FE;\n",
              "      border: none;\n",
              "      border-radius: 50%;\n",
              "      cursor: pointer;\n",
              "      display: none;\n",
              "      fill: #1967D2;\n",
              "      height: 32px;\n",
              "      padding: 0 0 0 0;\n",
              "      width: 32px;\n",
              "    }\n",
              "\n",
              "    .colab-df-convert:hover {\n",
              "      background-color: #E2EBFA;\n",
              "      box-shadow: 0px 1px 2px rgba(60, 64, 67, 0.3), 0px 1px 3px 1px rgba(60, 64, 67, 0.15);\n",
              "      fill: #174EA6;\n",
              "    }\n",
              "\n",
              "    [theme=dark] .colab-df-convert {\n",
              "      background-color: #3B4455;\n",
              "      fill: #D2E3FC;\n",
              "    }\n",
              "\n",
              "    [theme=dark] .colab-df-convert:hover {\n",
              "      background-color: #434B5C;\n",
              "      box-shadow: 0px 1px 3px 1px rgba(0, 0, 0, 0.15);\n",
              "      filter: drop-shadow(0px 1px 2px rgba(0, 0, 0, 0.3));\n",
              "      fill: #FFFFFF;\n",
              "    }\n",
              "  </style>\n",
              "\n",
              "      <script>\n",
              "        const buttonEl =\n",
              "          document.querySelector('#df-f30ee989-6269-4c34-8951-19370141a81b button.colab-df-convert');\n",
              "        buttonEl.style.display =\n",
              "          google.colab.kernel.accessAllowed ? 'block' : 'none';\n",
              "\n",
              "        async function convertToInteractive(key) {\n",
              "          const element = document.querySelector('#df-f30ee989-6269-4c34-8951-19370141a81b');\n",
              "          const dataTable =\n",
              "            await google.colab.kernel.invokeFunction('convertToInteractive',\n",
              "                                                     [key], {});\n",
              "          if (!dataTable) return;\n",
              "\n",
              "          const docLinkHtml = 'Like what you see? Visit the ' +\n",
              "            '<a target=\"_blank\" href=https://colab.research.google.com/notebooks/data_table.ipynb>data table notebook</a>'\n",
              "            + ' to learn more about interactive tables.';\n",
              "          element.innerHTML = '';\n",
              "          dataTable['output_type'] = 'display_data';\n",
              "          await google.colab.output.renderOutput(dataTable, element);\n",
              "          const docLink = document.createElement('div');\n",
              "          docLink.innerHTML = docLinkHtml;\n",
              "          element.appendChild(docLink);\n",
              "        }\n",
              "      </script>\n",
              "    </div>\n",
              "  </div>\n",
              "  "
            ],
            "text/plain": [
              "       A1      A2      A3      A4  ...     A58     A59     A60  Target\n",
              "0  0.0200  0.0371  0.0428  0.0207  ...  0.0084  0.0090  0.0032       R\n",
              "1  0.0453  0.0523  0.0843  0.0689  ...  0.0049  0.0052  0.0044       R\n",
              "2  0.0262  0.0582  0.1099  0.1083  ...  0.0164  0.0095  0.0078       R\n",
              "3  0.0100  0.0171  0.0623  0.0205  ...  0.0044  0.0040  0.0117       R\n",
              "4  0.0762  0.0666  0.0481  0.0394  ...  0.0048  0.0107  0.0094       R\n",
              "\n",
              "[5 rows x 61 columns]"
            ]
          },
          "metadata": {},
          "execution_count": 7
        }
      ]
    },
    {
      "cell_type": "code",
      "source": [
        "data.info()"
      ],
      "metadata": {
        "colab": {
          "base_uri": "https://localhost:8080/"
        },
        "id": "-1UL2vfiYdtV",
        "outputId": "7460524a-6c8c-4311-b7de-33bfe47f10a1"
      },
      "execution_count": 8,
      "outputs": [
        {
          "output_type": "stream",
          "name": "stdout",
          "text": [
            "<class 'pandas.core.frame.DataFrame'>\n",
            "RangeIndex: 208 entries, 0 to 207\n",
            "Data columns (total 61 columns):\n",
            " #   Column  Non-Null Count  Dtype  \n",
            "---  ------  --------------  -----  \n",
            " 0   A1      208 non-null    float64\n",
            " 1   A2      208 non-null    float64\n",
            " 2   A3      208 non-null    float64\n",
            " 3   A4      208 non-null    float64\n",
            " 4   A5      208 non-null    float64\n",
            " 5   A6      208 non-null    float64\n",
            " 6   A7      208 non-null    float64\n",
            " 7   A8      208 non-null    float64\n",
            " 8   A9      208 non-null    float64\n",
            " 9   A10     208 non-null    float64\n",
            " 10  A11     208 non-null    float64\n",
            " 11  A12     208 non-null    float64\n",
            " 12  A13     208 non-null    float64\n",
            " 13  A14     208 non-null    float64\n",
            " 14  A15     208 non-null    float64\n",
            " 15  A16     208 non-null    float64\n",
            " 16  A17     208 non-null    float64\n",
            " 17  A18     208 non-null    float64\n",
            " 18  A19     208 non-null    float64\n",
            " 19  A20     208 non-null    float64\n",
            " 20  A21     208 non-null    float64\n",
            " 21  A22     208 non-null    float64\n",
            " 22  A23     208 non-null    float64\n",
            " 23  A24     208 non-null    float64\n",
            " 24  A25     208 non-null    float64\n",
            " 25  A26     208 non-null    float64\n",
            " 26  A27     208 non-null    float64\n",
            " 27  A28     208 non-null    float64\n",
            " 28  A29     208 non-null    float64\n",
            " 29  A30     208 non-null    float64\n",
            " 30  A31     208 non-null    float64\n",
            " 31  A32     208 non-null    float64\n",
            " 32  A33     208 non-null    float64\n",
            " 33  A34     208 non-null    float64\n",
            " 34  A35     208 non-null    float64\n",
            " 35  A36     208 non-null    float64\n",
            " 36  A37     208 non-null    float64\n",
            " 37  A38     208 non-null    float64\n",
            " 38  A39     208 non-null    float64\n",
            " 39  A40     208 non-null    float64\n",
            " 40  A41     208 non-null    float64\n",
            " 41  A42     208 non-null    float64\n",
            " 42  A43     208 non-null    float64\n",
            " 43  A44     208 non-null    float64\n",
            " 44  A45     208 non-null    float64\n",
            " 45  A46     208 non-null    float64\n",
            " 46  A47     208 non-null    float64\n",
            " 47  A48     208 non-null    float64\n",
            " 48  A49     208 non-null    float64\n",
            " 49  A50     208 non-null    float64\n",
            " 50  A51     208 non-null    float64\n",
            " 51  A52     208 non-null    float64\n",
            " 52  A53     208 non-null    float64\n",
            " 53  A54     208 non-null    float64\n",
            " 54  A55     208 non-null    float64\n",
            " 55  A56     208 non-null    float64\n",
            " 56  A57     208 non-null    float64\n",
            " 57  A58     208 non-null    float64\n",
            " 58  A59     208 non-null    float64\n",
            " 59  A60     208 non-null    float64\n",
            " 60  Target  208 non-null    object \n",
            "dtypes: float64(60), object(1)\n",
            "memory usage: 99.2+ KB\n"
          ]
        }
      ]
    },
    {
      "cell_type": "code",
      "source": [
        "data.isnull().sum()\n"
      ],
      "metadata": {
        "colab": {
          "base_uri": "https://localhost:8080/"
        },
        "id": "kJapkIRKYdpY",
        "outputId": "28fbc807-dd71-4237-f254-5c3ee686e0c8"
      },
      "execution_count": 9,
      "outputs": [
        {
          "output_type": "execute_result",
          "data": {
            "text/plain": [
              "A1        0\n",
              "A2        0\n",
              "A3        0\n",
              "A4        0\n",
              "A5        0\n",
              "         ..\n",
              "A57       0\n",
              "A58       0\n",
              "A59       0\n",
              "A60       0\n",
              "Target    0\n",
              "Length: 61, dtype: int64"
            ]
          },
          "metadata": {},
          "execution_count": 9
        }
      ]
    },
    {
      "cell_type": "code",
      "source": [
        "# getting null values\n",
        "def nullvalues(data):\n",
        "    ls = [] \n",
        "    for i in data.columns:\n",
        "        if data[i].isnull().sum() > 0:\n",
        "            ls.append([i, data[i].isnull().sum()])\n",
        "    if len(ls) != 0:\n",
        "        print('Null values are present in ', ls)\n",
        "        for i in ls:  # getting Percentage Null values and their datatype\n",
        "            nullpercent = i[1]/data.shape[0]\n",
        "            nullpercent = round(nullpercent,6)\n",
        "            dt = type(data[i[0]][1])\n",
        "            print(f'Null percentage in {i[0]} is {nullpercent * 100} % and datatype {dt}')\n",
        "        return ls\n",
        "    else: print('No Null values')\n",
        "\n",
        "nullvalues(data)"
      ],
      "metadata": {
        "colab": {
          "base_uri": "https://localhost:8080/"
        },
        "id": "zKZZ1m4ZYdn0",
        "outputId": "1e6ce2f5-9a21-44d1-966f-621842a8640d"
      },
      "execution_count": 10,
      "outputs": [
        {
          "output_type": "stream",
          "name": "stdout",
          "text": [
            "No Null values\n"
          ]
        }
      ]
    },
    {
      "cell_type": "markdown",
      "source": [
        "# Preprocessing"
      ],
      "metadata": {
        "id": "sSrNuD0tdisX"
      }
    },
    {
      "cell_type": "code",
      "source": [
        "X = data.drop(['Target'], axis = 1)\n",
        "y = data['Target']\n",
        "X.shape, y.shape"
      ],
      "metadata": {
        "colab": {
          "base_uri": "https://localhost:8080/"
        },
        "id": "aXFJ9AJLdiOh",
        "outputId": "2798ad5c-814c-48d8-be97-df71a74025cf"
      },
      "execution_count": 11,
      "outputs": [
        {
          "output_type": "execute_result",
          "data": {
            "text/plain": [
              "((208, 60), (208,))"
            ]
          },
          "metadata": {},
          "execution_count": 11
        }
      ]
    },
    {
      "cell_type": "code",
      "source": [
        "from sklearn.model_selection import train_test_split\n",
        "X_train,  X_test,y_train, y_test = train_test_split(X,y, train_size = 0.75 )"
      ],
      "metadata": {
        "id": "Y8BTsp4tYddK"
      },
      "execution_count": 12,
      "outputs": []
    },
    {
      "cell_type": "code",
      "source": [
        "X_train.shape, y_train.shape, X_test.shape, y_test.shape"
      ],
      "metadata": {
        "colab": {
          "base_uri": "https://localhost:8080/"
        },
        "id": "K4MK9lc9dc5X",
        "outputId": "7f7c9ff3-02a4-4d20-ff70-448f4bd383be"
      },
      "execution_count": 13,
      "outputs": [
        {
          "output_type": "execute_result",
          "data": {
            "text/plain": [
              "((156, 60), (156,), (52, 60), (52,))"
            ]
          },
          "metadata": {},
          "execution_count": 13
        }
      ]
    },
    {
      "cell_type": "code",
      "source": [
        "y_train.value_counts()"
      ],
      "metadata": {
        "colab": {
          "base_uri": "https://localhost:8080/"
        },
        "id": "jua02SWV8hrW",
        "outputId": "23161481-3219-4b67-b154-604bf8f4bf7f"
      },
      "execution_count": 14,
      "outputs": [
        {
          "output_type": "execute_result",
          "data": {
            "text/plain": [
              "M    89\n",
              "R    67\n",
              "Name: Target, dtype: int64"
            ]
          },
          "metadata": {},
          "execution_count": 14
        }
      ]
    },
    {
      "cell_type": "code",
      "source": [
        "# model analysis functions\n",
        "#Function for model evaluation\n",
        "# Model analysis modules\n",
        "import sklearn\n",
        "from sklearn.metrics import accuracy_score, average_precision_score\n",
        "from sklearn.metrics import confusion_matrix\n",
        "from sklearn.metrics import roc_curve, precision_recall_curve\n",
        "from sklearn.metrics import roc_auc_score\n",
        "from sklearn.metrics import log_loss\n",
        "from sklearn.metrics import precision_score, recall_score, f1_score, fbeta_score # we will set beta to 2 to give more weight to recall\n",
        "# Function For analysing model\n",
        "def analyse(model, x_data, y_data, data_title):\n",
        "    pred = model.predict(x_data)\n",
        "    cm = confusion_matrix(y_data, pred)\n",
        "    TP = cm[1,1]\n",
        "    TN = cm[0,0]\n",
        "    FP = cm[0,1]\n",
        "    FN = cm[1,0]\n",
        "    print(f'For {data_title} data')\n",
        "    Accuracy  = (accuracy_score(y_data, pred)).round(4)\n",
        "    Precision  = (TP/(TP+FP)).round(4)  \n",
        "    Sensitivity = (TP/(TP+FN)).round(4)\n",
        "    Specificity = (TN/(TN+FP)).round(4)\n",
        "    F1 = f1_score(y_data, pred).round(4)\n",
        "    fbeta = fbeta_score(y_data, pred, beta = 2).round(4)\n",
        "   \n",
        "    \n",
        "    \n",
        "    mat = pd.DataFrame(cm, index=[ 'Actual Negative','Actual Positive'], \n",
        "                                 columns=[ 'Predict Negative','Predict Positive'])\n",
        "    \n",
        "    print('Correct Predictions:' ,TP+TN)\n",
        "    print('False Positives Type I error:', FP)\n",
        "    print('False Negatives Type II error:', FN)\n",
        "    print('Accuracy:',Accuracy)\n",
        "    print('Precision:',Precision)\n",
        "    print('Sensitivity:',Sensitivity)\n",
        "    print('Specificity:',Specificity)\n",
        "    print('F1:', F1)\n",
        "    print('F_beta Recall Favoured', fbeta)\n",
        "    try:\n",
        "        logloss = log_loss(y_data, pred).round(4)\n",
        "        print('Log_loss', logloss)\n",
        "    except: pass\n",
        "    \n",
        "    mat = pd.DataFrame(cm, index=[ 'Actual Negative','Actual Positive'], \n",
        "                                 columns=[ 'Predict Negative','Predict Positive'])\n",
        "    try:\n",
        "        y_pred = model.predict_proba(x_data)[:,1]\n",
        "        fpr, tpr, thresholds = roc_curve(y_data, y_pred)\n",
        "    except: pass\n",
        "    try:\n",
        "        print('ROC AUC score' ,roc_auc_score(y_data, y_pred).round(4))\n",
        "        print('PR_AUC: ', average_precision_score(y_data, y_pred).round(4))\n",
        "    except: pass\n",
        "    \n",
        "    precision, recall, thresholds = precision_recall_curve( y_data, y_pred)\n",
        "    \n",
        "    fig, axs = plt.subplots(1,2, figsize = (10,5))\n",
        "    #fig.suptitle(f'Model Evaluation {data_title} data' , fontsize=30)\n",
        "    axs[0].set_title('Confusion Matrix')\n",
        "    sns.heatmap(mat, annot = True, fmt = 'd', ax = axs[0], linewidths=5)\n",
        "    axs[1].set_title('Precision Recall Curve')\n",
        "    sns.lineplot(recall, precision, ax = axs[1], palette = 'rocket_r' )\n",
        "    axs[1].set_xlabel('Recall')\n",
        "    axs[1].set_ylabel('Precision')\n",
        "    plt.tight_layout()"
      ],
      "metadata": {
        "id": "Ff8BcF_V7rrl"
      },
      "execution_count": 48,
      "outputs": []
    },
    {
      "cell_type": "markdown",
      "source": [
        "# Making ANN Model"
      ],
      "metadata": {
        "id": "T6CxK--h91WA"
      }
    },
    {
      "cell_type": "code",
      "source": [
        "from keras.models import Sequential\n",
        "from keras.layers import Dense\n",
        "from keras.wrappers.scikit_learn import KerasClassifier\n",
        "from sklearn.model_selection import cross_val_score\n",
        "from sklearn.preprocessing import LabelEncoder\n",
        "from sklearn.model_selection import StratifiedKFold"
      ],
      "metadata": {
        "id": "YCl7KSfr9hjV"
      },
      "execution_count": 16,
      "outputs": []
    },
    {
      "cell_type": "code",
      "source": [
        "encoder = LabelEncoder()\n",
        "encoder.fit(y_train)\n",
        "y_train = encoder.transform(y_train)\n",
        "y_test = encoder.transform(y_test)"
      ],
      "metadata": {
        "id": "-KXhPIXY95ob"
      },
      "execution_count": 17,
      "outputs": []
    },
    {
      "cell_type": "code",
      "source": [
        "# baseline model\n",
        "def create_baseline():\n",
        "\t# create model\n",
        "\tmodel = Sequential()\n",
        "\tmodel.add(Dense(60, input_dim=60, activation='relu'))\n",
        "\tmodel.add(Dense(1, activation='sigmoid'))\n",
        "\t# Compile model\n",
        "\tmodel.compile(loss='binary_crossentropy', optimizer='adam', metrics=['accuracy'])\n",
        "\treturn model\n",
        "# evaluate model with standardized dataset\n",
        "estimator = KerasClassifier(build_fn=create_baseline, epochs=100, batch_size=5, verbose=0)\n",
        "kfold = StratifiedKFold(n_splits=10, shuffle=True)\n",
        "results = cross_val_score(estimator, X_train, y_train, cv=kfold)\n",
        "print(\"Baseline: %.2f%% (%.2f%%)\" % (results.mean()*100, results.std()*100))"
      ],
      "metadata": {
        "colab": {
          "base_uri": "https://localhost:8080/"
        },
        "id": "mArqGfOz-UOV",
        "outputId": "f7b351a4-56c3-4046-cb4b-d723559283e0"
      },
      "execution_count": 59,
      "outputs": [
        {
          "output_type": "stream",
          "name": "stdout",
          "text": [
            "Baseline: 78.88% (9.20%)\n"
          ]
        }
      ]
    },
    {
      "cell_type": "code",
      "source": [
        "results = cross_val_score(estimator, X_train, y_train, cv=kfold, scoring = 'roc_auc')\n",
        "print(\"Baseline ROC: %.2f std %.2f\" % (results.mean(), results.std()))"
      ],
      "metadata": {
        "colab": {
          "base_uri": "https://localhost:8080/"
        },
        "id": "DGtSN9jQAWIn",
        "outputId": "a3adccab-6561-4010-b794-cf2ec8e53c3a"
      },
      "execution_count": 60,
      "outputs": [
        {
          "output_type": "stream",
          "name": "stdout",
          "text": [
            "Baseline ROC: 0.84 std 0.08\n"
          ]
        }
      ]
    },
    {
      "cell_type": "code",
      "source": [
        "estimator.fit(X_train, y_train)\n",
        "analyse(estimator, X_train, y_train, 'Training')"
      ],
      "metadata": {
        "colab": {
          "base_uri": "https://localhost:8080/",
          "height": 595
        },
        "id": "btJWe9vM-k9c",
        "outputId": "63a04bfd-fffe-44a3-9520-f2bb1b8a2951"
      },
      "execution_count": 61,
      "outputs": [
        {
          "output_type": "stream",
          "name": "stdout",
          "text": [
            "For Training data\n",
            "Correct Predictions: 149\n",
            "False Positives Type I error: 2\n",
            "False Negatives Type II error: 5\n",
            "Accuracy: 0.9551\n",
            "Precision: 0.9688\n",
            "Sensitivity: 0.9254\n",
            "Specificity: 0.9775\n",
            "F1: 0.9466\n",
            "F_beta Recall Favoured 0.9337\n",
            "Log_loss 1.5498\n",
            "ROC AUC score 0.9971\n",
            "PR_AUC:  0.9961\n"
          ]
        },
        {
          "output_type": "display_data",
          "data": {
            "image/png": "[encoded data removed]",
            "text/plain": [
              "<Figure size 720x360 with 3 Axes>"
            ]
          },
          "metadata": {
            "needs_background": "light"
          }
        }
      ]
    },
    {
      "cell_type": "code",
      "source": [
        "y_pred = estimator.predict_proba(X_train)[:,1]\n",
        "fpr, tpr, thresholds = roc_curve(y_train, y_pred)\n",
        "plt.plot(fpr, tpr)"
      ],
      "metadata": {
        "colab": {
          "base_uri": "https://localhost:8080/",
          "height": 282
        },
        "id": "-mRTDC_NRBYy",
        "outputId": "6bdd4532-d324-4251-c283-e37bec04953e"
      },
      "execution_count": 62,
      "outputs": [
        {
          "output_type": "execute_result",
          "data": {
            "text/plain": [
              "[<matplotlib.lines.Line2D at 0x7f108ac508d0>]"
            ]
          },
          "metadata": {},
          "execution_count": 62
        },
        {
          "output_type": "display_data",
          "data": {
            "image/png": "[encoded data removed]",
            "text/plain": [
              "<Figure size 432x288 with 1 Axes>"
            ]
          },
          "metadata": {
            "needs_background": "light"
          }
        }
      ]
    },
    {
      "cell_type": "code",
      "source": [
        "analyse(estimator, X_test, y_test, 'Testing')"
      ],
      "metadata": {
        "colab": {
          "base_uri": "https://localhost:8080/",
          "height": 595
        },
        "id": "E5QFp1pA_FE8",
        "outputId": "6c8588db-59f2-4bf2-da4a-924c371594c1"
      },
      "execution_count": 63,
      "outputs": [
        {
          "output_type": "stream",
          "name": "stdout",
          "text": [
            "For Testing data\n",
            "Correct Predictions: 42\n",
            "False Positives Type I error: 0\n",
            "False Negatives Type II error: 10\n",
            "Accuracy: 0.8077\n",
            "Precision: 1.0\n",
            "Sensitivity: 0.6667\n",
            "Specificity: 1.0\n",
            "F1: 0.8\n",
            "F_beta Recall Favoured 0.7143\n",
            "Log_loss 6.6421\n",
            "ROC AUC score 0.9636\n",
            "PR_AUC:  0.9768\n"
          ]
        },
        {
          "output_type": "display_data",
          "data": {
            "image/png": "[encoded data removed]",
            "text/plain": [
              "<Figure size 720x360 with 3 Axes>"
            ]
          },
          "metadata": {
            "needs_background": "light"
          }
        }
      ]
    },
    {
      "cell_type": "code",
      "source": [
        "y_pred = estimator.predict_proba(X_test)[:,1]\n",
        "fpr, tpr, thresholds = roc_curve(y_test, y_pred)\n",
        "plt.plot(fpr, tpr)"
      ],
      "metadata": {
        "colab": {
          "base_uri": "https://localhost:8080/",
          "height": 282
        },
        "id": "QzOOQgW1Q9wg",
        "outputId": "ed0f3e21-ec82-49b2-e889-95f570e3da90"
      },
      "execution_count": 64,
      "outputs": [
        {
          "output_type": "execute_result",
          "data": {
            "text/plain": [
              "[<matplotlib.lines.Line2D at 0x7f108101b310>]"
            ]
          },
          "metadata": {},
          "execution_count": 64
        },
        {
          "output_type": "display_data",
          "data": {
            "image/png": "[encoded data removed]",
            "text/plain": [
              "<Figure size 432x288 with 1 Axes>"
            ]
          },
          "metadata": {
            "needs_background": "light"
          }
        }
      ]
    },
    {
      "cell_type": "code",
      "source": [
        "from sklearn.preprocessing import StandardScaler\n",
        "from sklearn.pipeline import Pipeline\n",
        "estimators = []\n",
        "estimators.append(('standardize', StandardScaler()))\n",
        "estimators.append(('mlp', KerasClassifier(build_fn=create_baseline, epochs=100, batch_size=5, verbose=0)))\n",
        "pipeline = Pipeline(estimators)\n",
        "kfold = StratifiedKFold(n_splits=10, shuffle=True)\n",
        "results = cross_val_score(pipeline, X_train, y_train, cv=kfold)\n",
        "print(\"Standardized: %.2f%% (%.2f%%)\" % (results.mean()*100, results.std()*100))"
      ],
      "metadata": {
        "colab": {
          "base_uri": "https://localhost:8080/"
        },
        "id": "2NwFA3g9_pL4",
        "outputId": "8b6c43f1-17c8-4e5a-fc1a-4ed998108e43"
      },
      "execution_count": 65,
      "outputs": [
        {
          "output_type": "stream",
          "name": "stdout",
          "text": [
            "Standardized: 80.96% (11.40%)\n"
          ]
        }
      ]
    },
    {
      "cell_type": "code",
      "source": [
        "results = cross_val_score(pipeline, X_train, y_train, cv=kfold, scoring = 'roc_auc')\n",
        "print(\"Standardized ROC: %.2f std %.2f\" % (results.mean(), results.std()))"
      ],
      "metadata": {
        "colab": {
          "base_uri": "https://localhost:8080/"
        },
        "id": "u8vJaAyUAzLa",
        "outputId": "9a87eb3a-48fa-4e14-d03b-387e0a71b370"
      },
      "execution_count": 66,
      "outputs": [
        {
          "output_type": "stream",
          "name": "stdout",
          "text": [
            "Standardized ROC: 0.92 std 0.08\n"
          ]
        }
      ]
    },
    {
      "cell_type": "code",
      "source": [
        "pipeline.fit(X_train, y_train)\n",
        "analyse(pipeline, X_train, y_train, 'Training')"
      ],
      "metadata": {
        "colab": {
          "base_uri": "https://localhost:8080/",
          "height": 595
        },
        "id": "EN-9je3eAzIk",
        "outputId": "e1d777cd-397f-4f98-b90a-6724b1a4e72f"
      },
      "execution_count": 67,
      "outputs": [
        {
          "output_type": "stream",
          "name": "stdout",
          "text": [
            "For Training data\n",
            "Correct Predictions: 156\n",
            "False Positives Type I error: 0\n",
            "False Negatives Type II error: 0\n",
            "Accuracy: 1.0\n",
            "Precision: 1.0\n",
            "Sensitivity: 1.0\n",
            "Specificity: 1.0\n",
            "F1: 1.0\n",
            "F_beta Recall Favoured 1.0\n",
            "Log_loss 0.0\n",
            "ROC AUC score 1.0\n",
            "PR_AUC:  1.0\n"
          ]
        },
        {
          "output_type": "display_data",
          "data": {
            "image/png": "[encoded data removed]",
            "text/plain": [
              "<Figure size 720x360 with 3 Axes>"
            ]
          },
          "metadata": {
            "needs_background": "light"
          }
        }
      ]
    },
    {
      "cell_type": "code",
      "source": [
        "y_pred = pipeline.predict_proba(X_train)[:,1]\n",
        "fpr, tpr, thresholds = roc_curve(y_train, y_pred)\n",
        "plt.plot(fpr, tpr)"
      ],
      "metadata": {
        "id": "3AIYRK_uG6ov",
        "colab": {
          "base_uri": "https://localhost:8080/",
          "height": 282
        },
        "outputId": "0d40f1c2-a435-476a-f87c-c893b794ab67"
      },
      "execution_count": 68,
      "outputs": [
        {
          "output_type": "execute_result",
          "data": {
            "text/plain": [
              "[<matplotlib.lines.Line2D at 0x7f108a1cc7d0>]"
            ]
          },
          "metadata": {},
          "execution_count": 68
        },
        {
          "output_type": "display_data",
          "data": {
            "image/png": "[encoded data removed]",
            "text/plain": [
              "<Figure size 432x288 with 1 Axes>"
            ]
          },
          "metadata": {
            "needs_background": "light"
          }
        }
      ]
    },
    {
      "cell_type": "code",
      "source": [
        "analyse(pipeline, X_test, y_test, 'Testing')"
      ],
      "metadata": {
        "colab": {
          "base_uri": "https://localhost:8080/",
          "height": 595
        },
        "id": "3pWrMepaAzEn",
        "outputId": "6815310d-8609-4d9e-810b-66b39b1910cb"
      },
      "execution_count": 69,
      "outputs": [
        {
          "output_type": "stream",
          "name": "stdout",
          "text": [
            "For Testing data\n",
            "Correct Predictions: 48\n",
            "False Positives Type I error: 0\n",
            "False Negatives Type II error: 4\n",
            "Accuracy: 0.9231\n",
            "Precision: 1.0\n",
            "Sensitivity: 0.8667\n",
            "Specificity: 1.0\n",
            "F1: 0.9286\n",
            "F_beta Recall Favoured 0.8904\n",
            "Log_loss 2.6568\n",
            "ROC AUC score 0.9758\n",
            "PR_AUC:  0.9853\n"
          ]
        },
        {
          "output_type": "display_data",
          "data": {
            "image/png": "[encoded data removed]",
            "text/plain": [
              "<Figure size 720x360 with 3 Axes>"
            ]
          },
          "metadata": {
            "needs_background": "light"
          }
        }
      ]
    },
    {
      "cell_type": "code",
      "source": [
        "y_pred = pipeline.predict_proba(X_test)[:,1]\n",
        "fpr, tpr, thresholds = roc_curve(y_test, y_pred)\n",
        "plt.plot(fpr, tpr)"
      ],
      "metadata": {
        "colab": {
          "base_uri": "https://localhost:8080/",
          "height": 282
        },
        "id": "MimNRRUBQ7ik",
        "outputId": "7c137daa-213b-47fd-c3d9-1b9a9f5b4f89"
      },
      "execution_count": 70,
      "outputs": [
        {
          "output_type": "execute_result",
          "data": {
            "text/plain": [
              "[<matplotlib.lines.Line2D at 0x7f11001fbc90>]"
            ]
          },
          "metadata": {},
          "execution_count": 70
        },
        {
          "output_type": "display_data",
          "data": {
            "image/png": "[encoded data removed]",
            "text/plain": [
              "<Figure size 432x288 with 1 Axes>"
            ]
          },
          "metadata": {
            "needs_background": "light"
          }
        }
      ]
    },
    {
      "cell_type": "code",
      "source": [
        "# smaller model\n",
        "def create_smaller():\n",
        "\t# create model\n",
        "\tmodel = Sequential()\n",
        "\tmodel.add(Dense(30, input_dim=60, activation='relu'))\n",
        "\tmodel.add(Dense(1, activation='sigmoid'))\n",
        "\t# Compile model\n",
        "\tmodel.compile(loss='binary_crossentropy', optimizer='adam', metrics=['accuracy'])\n",
        "\treturn model"
      ],
      "metadata": {
        "id": "JzigWFB1AzC7"
      },
      "execution_count": 71,
      "outputs": []
    },
    {
      "cell_type": "code",
      "source": [
        "estimators = []\n",
        "estimators.append(('standardize', StandardScaler()))\n",
        "estimators.append(('mlp', KerasClassifier(build_fn=create_smaller, epochs=100, batch_size=5, verbose=0)))\n",
        "pipeline = Pipeline(estimators)\n",
        "kfold = StratifiedKFold(n_splits=10, shuffle=True)\n",
        "results = cross_val_score(pipeline, X_train, y_train, cv=kfold)\n",
        "print(\"Smaller: %.2f%% (%.2f%%)\" % (results.mean()*100, results.std()*100))"
      ],
      "metadata": {
        "colab": {
          "base_uri": "https://localhost:8080/"
        },
        "id": "zTlX5QU9ANPi",
        "outputId": "bca7353c-6b5a-4f10-af5a-604fb13406a3"
      },
      "execution_count": 53,
      "outputs": [
        {
          "output_type": "stream",
          "name": "stdout",
          "text": [
            "Smaller: 83.96% (6.01%)\n"
          ]
        }
      ]
    },
    {
      "cell_type": "code",
      "source": [
        "results = cross_val_score(pipeline, X_train, y_train, cv=kfold, scoring = 'roc_auc')\n",
        "print(\"Smaller ROC: %.2f std %.2f\" % (results.mean(), results.std()))"
      ],
      "metadata": {
        "colab": {
          "base_uri": "https://localhost:8080/"
        },
        "id": "a5UxF0CfCpYS",
        "outputId": "5d47c848-89ec-4d70-ca2c-506faf194a89"
      },
      "execution_count": 54,
      "outputs": [
        {
          "output_type": "stream",
          "name": "stdout",
          "text": [
            "Smaller ROC: 0.92 std 0.09\n"
          ]
        }
      ]
    },
    {
      "cell_type": "code",
      "source": [
        "pipeline.fit(X_train, y_train)\n",
        "analyse(pipeline, X_train, y_train, 'Training')"
      ],
      "metadata": {
        "colab": {
          "base_uri": "https://localhost:8080/",
          "height": 595
        },
        "id": "0WbzBtNRCuYY",
        "outputId": "ad59e226-088b-4a7b-ba35-16f23a8dd927"
      },
      "execution_count": 55,
      "outputs": [
        {
          "output_type": "stream",
          "name": "stdout",
          "text": [
            "For Training data\n",
            "Correct Predictions: 156\n",
            "False Positives Type I error: 0\n",
            "False Negatives Type II error: 0\n",
            "Accuracy: 1.0\n",
            "Precision: 1.0\n",
            "Sensitivity: 1.0\n",
            "Specificity: 1.0\n",
            "F1: 1.0\n",
            "F_beta Recall Favoured 1.0\n",
            "Log_loss 0.0\n",
            "ROC AUC score 1.0\n",
            "PR_AUC:  1.0\n"
          ]
        },
        {
          "output_type": "display_data",
          "data": {
            "image/png": "[encoded data removed]",
            "text/plain": [
              "<Figure size 720x360 with 3 Axes>"
            ]
          },
          "metadata": {
            "needs_background": "light"
          }
        }
      ]
    },
    {
      "cell_type": "code",
      "source": [
        "y_pred = pipeline.predict_proba(X_train)[:,1]\n",
        "fpr, tpr, thresholds = roc_curve(y_train, y_pred)\n",
        "plt.plot(fpr, tpr)"
      ],
      "metadata": {
        "colab": {
          "base_uri": "https://localhost:8080/",
          "height": 282
        },
        "id": "RGiSyVJDNTs-",
        "outputId": "cf5e9ef5-ea5d-43e5-915d-b8727f543f34"
      },
      "execution_count": 56,
      "outputs": [
        {
          "output_type": "execute_result",
          "data": {
            "text/plain": [
              "[<matplotlib.lines.Line2D at 0x7f108a08a990>]"
            ]
          },
          "metadata": {},
          "execution_count": 56
        },
        {
          "output_type": "display_data",
          "data": {
            "image/png": "[encoded data removed]",
            "text/plain": [
              "<Figure size 432x288 with 1 Axes>"
            ]
          },
          "metadata": {
            "needs_background": "light"
          }
        }
      ]
    },
    {
      "cell_type": "code",
      "source": [
        "analyse(pipeline, X_test, y_test, 'Testing')"
      ],
      "metadata": {
        "colab": {
          "base_uri": "https://localhost:8080/",
          "height": 595
        },
        "id": "DICeYJsGC5om",
        "outputId": "a9f7914e-dc99-49de-f4e8-f2c7ad96e42c"
      },
      "execution_count": 57,
      "outputs": [
        {
          "output_type": "stream",
          "name": "stdout",
          "text": [
            "For Testing data\n",
            "Correct Predictions: 47\n",
            "False Positives Type I error: 0\n",
            "False Negatives Type II error: 5\n",
            "Accuracy: 0.9038\n",
            "Precision: 1.0\n",
            "Sensitivity: 0.8333\n",
            "Specificity: 1.0\n",
            "F1: 0.9091\n",
            "F_beta Recall Favoured 0.8621\n",
            "Log_loss 3.321\n",
            "ROC AUC score 0.9712\n",
            "PR_AUC:  0.9827\n"
          ]
        },
        {
          "output_type": "display_data",
          "data": {
            "image/png": "[encoded data removed]",
            "text/plain": [
              "<Figure size 720x360 with 3 Axes>"
            ]
          },
          "metadata": {
            "needs_background": "light"
          }
        }
      ]
    },
    {
      "cell_type": "code",
      "source": [
        "y_pred = pipeline.predict_proba(X_test)[:,1]\n",
        "fpr, tpr, thresholds = roc_curve(y_test, y_pred)\n",
        "plt.plot(fpr, tpr)"
      ],
      "metadata": {
        "colab": {
          "base_uri": "https://localhost:8080/",
          "height": 282
        },
        "id": "p925uIhRQ0v2",
        "outputId": "ed8d2576-d5af-4fe5-c6fc-a078cc6e52fa"
      },
      "execution_count": 58,
      "outputs": [
        {
          "output_type": "execute_result",
          "data": {
            "text/plain": [
              "[<matplotlib.lines.Line2D at 0x7f108cb1e390>]"
            ]
          },
          "metadata": {},
          "execution_count": 58
        },
        {
          "output_type": "display_data",
          "data": {
            "image/png": "[encoded data removed]",
            "text/plain": [
              "<Figure size 432x288 with 1 Axes>"
            ]
          },
          "metadata": {
            "needs_background": "light"
          }
        }
      ]
    },
    {
      "cell_type": "code",
      "source": [
        "# larger model\n",
        "def create_larger():\n",
        "\t# create model\n",
        "\tmodel = Sequential()\n",
        "\tmodel.add(Dense(60, input_dim=60, activation='relu'))\n",
        "\tmodel.add(Dense(30, activation='relu'))\n",
        "\tmodel.add(Dense(1, activation='sigmoid'))\n",
        "\t# Compile model\n",
        "\tmodel.compile(loss='binary_crossentropy', optimizer='adam', metrics=['accuracy'])\n",
        "\treturn model"
      ],
      "metadata": {
        "id": "aR_2kALtC6qd"
      },
      "execution_count": 35,
      "outputs": []
    },
    {
      "cell_type": "code",
      "source": [
        "estimators = []\n",
        "estimators.append(('standardize', StandardScaler()))\n",
        "estimators.append(('mlp', KerasClassifier(build_fn=create_larger, epochs=100, batch_size=5, verbose=0)))\n",
        "pipeline = Pipeline(estimators)\n",
        "kfold = StratifiedKFold(n_splits=10, shuffle=True)\n",
        "results = cross_val_score(pipeline, X_train, y_train, cv=kfold)\n",
        "print(\"Larger: %.2f%% (%.2f%%)\" % (results.mean()*100, results.std()*100))"
      ],
      "metadata": {
        "colab": {
          "base_uri": "https://localhost:8080/"
        },
        "id": "yU6bfD9lDHn_",
        "outputId": "a7bfc377-283c-4955-b497-e39b0878f494"
      },
      "execution_count": 36,
      "outputs": [
        {
          "output_type": "stream",
          "name": "stdout",
          "text": [
            "Larger: 81.42% (8.03%)\n"
          ]
        }
      ]
    },
    {
      "cell_type": "code",
      "source": [
        "results = cross_val_score(pipeline, X_train, y_train, cv=kfold, scoring = 'roc_auc')\n",
        "print(\"Larger ROC: %.2f std %.2f\" % (results.mean(), results.std()))"
      ],
      "metadata": {
        "colab": {
          "base_uri": "https://localhost:8080/"
        },
        "id": "dBdb71BEDHj_",
        "outputId": "4ec6e1ea-b0fc-465d-b016-334ea16d56b9"
      },
      "execution_count": 37,
      "outputs": [
        {
          "output_type": "stream",
          "name": "stdout",
          "text": [
            "Larger ROC: 0.89 std 0.10\n"
          ]
        }
      ]
    },
    {
      "cell_type": "code",
      "source": [
        "pipeline.fit(X_train, y_train)\n",
        "analyse(pipeline, X_train, y_train, 'Training')"
      ],
      "metadata": {
        "colab": {
          "base_uri": "https://localhost:8080/",
          "height": 595
        },
        "id": "Y4Q1drHuDHh6",
        "outputId": "b4632656-6182-4ea1-e8f1-2276447682bc"
      },
      "execution_count": 51,
      "outputs": [
        {
          "output_type": "stream",
          "name": "stdout",
          "text": [
            "For Training data\n",
            "Correct Predictions: 156\n",
            "False Positives Type I error: 0\n",
            "False Negatives Type II error: 0\n",
            "Accuracy: 1.0\n",
            "Precision: 1.0\n",
            "Sensitivity: 1.0\n",
            "Specificity: 1.0\n",
            "F1: 1.0\n",
            "F_beta Recall Favoured 1.0\n",
            "Log_loss 0.0\n",
            "ROC AUC score 1.0\n",
            "PR_AUC:  1.0\n"
          ]
        },
        {
          "output_type": "display_data",
          "data": {
            "image/png": "[encoded data removed]",
            "text/plain": [
              "<Figure size 720x360 with 3 Axes>"
            ]
          },
          "metadata": {
            "needs_background": "light"
          }
        }
      ]
    },
    {
      "cell_type": "code",
      "source": [
        "y_pred = pipeline.predict_proba(X_train)[:,1]\n",
        "fpr, tpr, thresholds = roc_curve(y_train, y_pred)\n",
        "plt.plot(fpr, tpr)"
      ],
      "metadata": {
        "colab": {
          "base_uri": "https://localhost:8080/",
          "height": 282
        },
        "id": "xY-4kV8oNebH",
        "outputId": "7c47ac37-1080-4df4-a48d-f536b49959de"
      },
      "execution_count": 39,
      "outputs": [
        {
          "output_type": "execute_result",
          "data": {
            "text/plain": [
              "[<matplotlib.lines.Line2D at 0x7f108c8f32d0>]"
            ]
          },
          "metadata": {},
          "execution_count": 39
        },
        {
          "output_type": "display_data",
          "data": {
            "image/png": "[encoded data removed]",
            "text/plain": [
              "<Figure size 432x288 with 1 Axes>"
            ]
          },
          "metadata": {
            "needs_background": "light"
          }
        }
      ]
    },
    {
      "cell_type": "code",
      "source": [
        "analyse(pipeline, X_test, y_test, 'Testing')"
      ],
      "metadata": {
        "colab": {
          "base_uri": "https://localhost:8080/",
          "height": 595
        },
        "id": "2RBGCLdBDHea",
        "outputId": "387026dd-a34a-456a-8ada-7e77fd0b03c6"
      },
      "execution_count": 49,
      "outputs": [
        {
          "output_type": "stream",
          "name": "stdout",
          "text": [
            "For Testing data\n",
            "Correct Predictions: 50\n",
            "False Positives Type I error: 0\n",
            "False Negatives Type II error: 2\n",
            "Accuracy: 0.9615\n",
            "Precision: 1.0\n",
            "Sensitivity: 0.9333\n",
            "Specificity: 1.0\n",
            "F1: 0.9655\n",
            "F_beta Recall Favoured 0.9459\n",
            "Log_loss 1.3284\n",
            "ROC AUC score 0.9848\n",
            "PR_AUC:  0.9906\n"
          ]
        },
        {
          "output_type": "display_data",
          "data": {
            "image/png": "[encoded data removed]",
            "text/plain": [
              "<Figure size 720x360 with 3 Axes>"
            ]
          },
          "metadata": {
            "needs_background": "light"
          }
        }
      ]
    },
    {
      "cell_type": "code",
      "source": [
        "y_pred = pipeline.predict_proba(X_test)[:,1]\n",
        "fpr, tpr, thresholds = roc_curve(y_test, y_pred)\n",
        "plt.plot(fpr, tpr)"
      ],
      "metadata": {
        "colab": {
          "base_uri": "https://localhost:8080/",
          "height": 282
        },
        "id": "qtzcJS0KPJUS",
        "outputId": "cef3487d-3df6-4e9c-976b-62073eb16da1"
      },
      "execution_count": 50,
      "outputs": [
        {
          "output_type": "execute_result",
          "data": {
            "text/plain": [
              "[<matplotlib.lines.Line2D at 0x7f108fe45b50>]"
            ]
          },
          "metadata": {},
          "execution_count": 50
        },
        {
          "output_type": "display_data",
          "data": {
            "image/png": "[encoded data removed]",
            "text/plain": [
              "<Figure size 432x288 with 1 Axes>"
            ]
          },
          "metadata": {
            "needs_background": "light"
          }
        }
      ]
    },
    {
      "cell_type": "code",
      "source": [
        ""
      ],
      "metadata": {
        "id": "Amv-4TUHQipC"
      },
      "execution_count": null,
      "outputs": []
    }
  ]
}
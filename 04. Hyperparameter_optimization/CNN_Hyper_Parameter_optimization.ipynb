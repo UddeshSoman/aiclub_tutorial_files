{
  "nbformat": 4,
  "nbformat_minor": 0,
  "metadata": {
    "colab": {
      "name": "CNN Hyper Parameter optimization.ipynb",
      "provenance": [],
      "collapsed_sections": [
        "cjcAG_TtcPZG",
        "rA21hiFpcPZI"
      ]
    },
    "kernelspec": {
      "name": "python3",
      "display_name": "Python 3"
    },
    "language_info": {
      "name": "python"
    },
    "accelerator": "GPU"
  },
  "cells": [
    {
      "cell_type": "code",
      "execution_count": 1,
      "metadata": {
        "id": "RO_afrFEi6cw",
        "colab": {
          "base_uri": "https://localhost:8080/"
        },
        "outputId": "0a782032-ca5a-4628-a0de-3ea748858367"
      },
      "outputs": [
        {
          "output_type": "stream",
          "name": "stdout",
          "text": [
            "Fri Mar  4 05:53:49 2022       \n",
            "+-----------------------------------------------------------------------------+\n",
            "| NVIDIA-SMI 460.32.03    Driver Version: 460.32.03    CUDA Version: 11.2     |\n",
            "|-------------------------------+----------------------+----------------------+\n",
            "| GPU  Name        Persistence-M| Bus-Id        Disp.A | Volatile Uncorr. ECC |\n",
            "| Fan  Temp  Perf  Pwr:Usage/Cap|         Memory-Usage | GPU-Util  Compute M. |\n",
            "|                               |                      |               MIG M. |\n",
            "|===============================+======================+======================|\n",
            "|   0  Tesla T4            Off  | 00000000:00:04.0 Off |                    0 |\n",
            "| N/A   41C    P8     9W /  70W |      0MiB / 15109MiB |      0%      Default |\n",
            "|                               |                      |                  N/A |\n",
            "+-------------------------------+----------------------+----------------------+\n",
            "                                                                               \n",
            "+-----------------------------------------------------------------------------+\n",
            "| Processes:                                                                  |\n",
            "|  GPU   GI   CI        PID   Type   Process name                  GPU Memory |\n",
            "|        ID   ID                                                   Usage      |\n",
            "|=============================================================================|\n",
            "|  No running processes found                                                 |\n",
            "+-----------------------------------------------------------------------------+\n"
          ]
        }
      ],
      "source": [
        "gpu_info = !nvidia-smi\n",
        "gpu_info = '\\n'.join(gpu_info)\n",
        "if gpu_info.find('failed') >= 0:\n",
        "  print('Not connected to a GPU')\n",
        "else:\n",
        "  print(gpu_info)"
      ]
    },
    {
      "cell_type": "code",
      "source": [
        "from google.colab import drive\n",
        "drive.mount('/content/drive')"
      ],
      "metadata": {
        "id": "lBycrgYajMmN",
        "colab": {
          "base_uri": "https://localhost:8080/"
        },
        "outputId": "42953fc2-abaf-4f4a-a18b-be534bdba783"
      },
      "execution_count": 2,
      "outputs": [
        {
          "output_type": "stream",
          "name": "stdout",
          "text": [
            "Mounted at /content/drive\n"
          ]
        }
      ]
    },
    {
      "cell_type": "markdown",
      "source": [
        "## Starting"
      ],
      "metadata": {
        "id": "4HUBRVzccW7t"
      }
    },
    {
      "cell_type": "code",
      "source": [
        "import itertools\n",
        "\n",
        "import numpy as np\n",
        "import pandas as pd\n",
        "import matplotlib.pyplot as plt\n",
        "import seaborn as sns\n",
        "\n",
        "from sklearn.model_selection import train_test_split\n",
        "from sklearn.metrics import confusion_matrix"
      ],
      "metadata": {
        "id": "lFDwxpaojMjS"
      },
      "execution_count": 3,
      "outputs": []
    },
    {
      "cell_type": "code",
      "source": [
        "from keras.utils.np_utils import to_categorical\n",
        "from keras.models import Sequential, load_model\n",
        "from keras.layers import Dense, Flatten, Conv2D, MaxPool2D\n",
        "from tensorflow.keras.optimizers import Adam\n",
        "from keras.callbacks import ReduceLROnPlateau"
      ],
      "metadata": {
        "id": "QJYAqmMAjL8U"
      },
      "execution_count": 4,
      "outputs": []
    },
    {
      "cell_type": "code",
      "source": [
        ""
      ],
      "metadata": {
        "id": "gdTov52IeQhv"
      },
      "execution_count": 4,
      "outputs": []
    },
    {
      "cell_type": "code",
      "source": [
        "# Load the data\n",
        "from keras.datasets import mnist\n",
        "data = pd.read_csv('/content/drive/MyDrive/Datasets/digits.csv')"
      ],
      "metadata": {
        "id": "2TzCqck8jL4x"
      },
      "execution_count": 5,
      "outputs": []
    },
    {
      "cell_type": "code",
      "source": [
        "data.head()"
      ],
      "metadata": {
        "colab": {
          "base_uri": "https://localhost:8080/",
          "height": 300
        },
        "id": "N-9qlGJQfK9D",
        "outputId": "600f58ae-69df-44c8-fc02-0e9aa4ac5cf0"
      },
      "execution_count": 6,
      "outputs": [
        {
          "output_type": "execute_result",
          "data": {
            "text/html": [
              "\n",
              "  <div id=\"df-c15f61ca-ae2f-49bc-a564-badb44a72842\">\n",
              "    <div class=\"colab-df-container\">\n",
              "      <div>\n",
              "<style scoped>\n",
              "    .dataframe tbody tr th:only-of-type {\n",
              "        vertical-align: middle;\n",
              "    }\n",
              "\n",
              "    .dataframe tbody tr th {\n",
              "        vertical-align: top;\n",
              "    }\n",
              "\n",
              "    .dataframe thead th {\n",
              "        text-align: right;\n",
              "    }\n",
              "</style>\n",
              "<table border=\"1\" class=\"dataframe\">\n",
              "  <thead>\n",
              "    <tr style=\"text-align: right;\">\n",
              "      <th></th>\n",
              "      <th>label</th>\n",
              "      <th>pixel0</th>\n",
              "      <th>pixel1</th>\n",
              "      <th>pixel2</th>\n",
              "      <th>pixel3</th>\n",
              "      <th>pixel4</th>\n",
              "      <th>pixel5</th>\n",
              "      <th>pixel6</th>\n",
              "      <th>pixel7</th>\n",
              "      <th>pixel8</th>\n",
              "      <th>...</th>\n",
              "      <th>pixel774</th>\n",
              "      <th>pixel775</th>\n",
              "      <th>pixel776</th>\n",
              "      <th>pixel777</th>\n",
              "      <th>pixel778</th>\n",
              "      <th>pixel779</th>\n",
              "      <th>pixel780</th>\n",
              "      <th>pixel781</th>\n",
              "      <th>pixel782</th>\n",
              "      <th>pixel783</th>\n",
              "    </tr>\n",
              "  </thead>\n",
              "  <tbody>\n",
              "    <tr>\n",
              "      <th>0</th>\n",
              "      <td>1</td>\n",
              "      <td>0</td>\n",
              "      <td>0</td>\n",
              "      <td>0</td>\n",
              "      <td>0</td>\n",
              "      <td>0</td>\n",
              "      <td>0</td>\n",
              "      <td>0</td>\n",
              "      <td>0</td>\n",
              "      <td>0</td>\n",
              "      <td>...</td>\n",
              "      <td>0</td>\n",
              "      <td>0</td>\n",
              "      <td>0</td>\n",
              "      <td>0</td>\n",
              "      <td>0</td>\n",
              "      <td>0</td>\n",
              "      <td>0</td>\n",
              "      <td>0</td>\n",
              "      <td>0</td>\n",
              "      <td>0</td>\n",
              "    </tr>\n",
              "    <tr>\n",
              "      <th>1</th>\n",
              "      <td>0</td>\n",
              "      <td>0</td>\n",
              "      <td>0</td>\n",
              "      <td>0</td>\n",
              "      <td>0</td>\n",
              "      <td>0</td>\n",
              "      <td>0</td>\n",
              "      <td>0</td>\n",
              "      <td>0</td>\n",
              "      <td>0</td>\n",
              "      <td>...</td>\n",
              "      <td>0</td>\n",
              "      <td>0</td>\n",
              "      <td>0</td>\n",
              "      <td>0</td>\n",
              "      <td>0</td>\n",
              "      <td>0</td>\n",
              "      <td>0</td>\n",
              "      <td>0</td>\n",
              "      <td>0</td>\n",
              "      <td>0</td>\n",
              "    </tr>\n",
              "    <tr>\n",
              "      <th>2</th>\n",
              "      <td>1</td>\n",
              "      <td>0</td>\n",
              "      <td>0</td>\n",
              "      <td>0</td>\n",
              "      <td>0</td>\n",
              "      <td>0</td>\n",
              "      <td>0</td>\n",
              "      <td>0</td>\n",
              "      <td>0</td>\n",
              "      <td>0</td>\n",
              "      <td>...</td>\n",
              "      <td>0</td>\n",
              "      <td>0</td>\n",
              "      <td>0</td>\n",
              "      <td>0</td>\n",
              "      <td>0</td>\n",
              "      <td>0</td>\n",
              "      <td>0</td>\n",
              "      <td>0</td>\n",
              "      <td>0</td>\n",
              "      <td>0</td>\n",
              "    </tr>\n",
              "    <tr>\n",
              "      <th>3</th>\n",
              "      <td>4</td>\n",
              "      <td>0</td>\n",
              "      <td>0</td>\n",
              "      <td>0</td>\n",
              "      <td>0</td>\n",
              "      <td>0</td>\n",
              "      <td>0</td>\n",
              "      <td>0</td>\n",
              "      <td>0</td>\n",
              "      <td>0</td>\n",
              "      <td>...</td>\n",
              "      <td>0</td>\n",
              "      <td>0</td>\n",
              "      <td>0</td>\n",
              "      <td>0</td>\n",
              "      <td>0</td>\n",
              "      <td>0</td>\n",
              "      <td>0</td>\n",
              "      <td>0</td>\n",
              "      <td>0</td>\n",
              "      <td>0</td>\n",
              "    </tr>\n",
              "    <tr>\n",
              "      <th>4</th>\n",
              "      <td>0</td>\n",
              "      <td>0</td>\n",
              "      <td>0</td>\n",
              "      <td>0</td>\n",
              "      <td>0</td>\n",
              "      <td>0</td>\n",
              "      <td>0</td>\n",
              "      <td>0</td>\n",
              "      <td>0</td>\n",
              "      <td>0</td>\n",
              "      <td>...</td>\n",
              "      <td>0</td>\n",
              "      <td>0</td>\n",
              "      <td>0</td>\n",
              "      <td>0</td>\n",
              "      <td>0</td>\n",
              "      <td>0</td>\n",
              "      <td>0</td>\n",
              "      <td>0</td>\n",
              "      <td>0</td>\n",
              "      <td>0</td>\n",
              "    </tr>\n",
              "  </tbody>\n",
              "</table>\n",
              "<p>5 rows × 785 columns</p>\n",
              "</div>\n",
              "      <button class=\"colab-df-convert\" onclick=\"convertToInteractive('df-c15f61ca-ae2f-49bc-a564-badb44a72842')\"\n",
              "              title=\"Convert this dataframe to an interactive table.\"\n",
              "              style=\"display:none;\">\n",
              "        \n",
              "  <svg xmlns=\"http://www.w3.org/2000/svg\" height=\"24px\"viewBox=\"0 0 24 24\"\n",
              "       width=\"24px\">\n",
              "    <path d=\"M0 0h24v24H0V0z\" fill=\"none\"/>\n",
              "    <path d=\"M18.56 5.44l.94 2.06.94-2.06 2.06-.94-2.06-.94-.94-2.06-.94 2.06-2.06.94zm-11 1L8.5 8.5l.94-2.06 2.06-.94-2.06-.94L8.5 2.5l-.94 2.06-2.06.94zm10 10l.94 2.06.94-2.06 2.06-.94-2.06-.94-.94-2.06-.94 2.06-2.06.94z\"/><path d=\"M17.41 7.96l-1.37-1.37c-.4-.4-.92-.59-1.43-.59-.52 0-1.04.2-1.43.59L10.3 9.45l-7.72 7.72c-.78.78-.78 2.05 0 2.83L4 21.41c.39.39.9.59 1.41.59.51 0 1.02-.2 1.41-.59l7.78-7.78 2.81-2.81c.8-.78.8-2.07 0-2.86zM5.41 20L4 18.59l7.72-7.72 1.47 1.35L5.41 20z\"/>\n",
              "  </svg>\n",
              "      </button>\n",
              "      \n",
              "  <style>\n",
              "    .colab-df-container {\n",
              "      display:flex;\n",
              "      flex-wrap:wrap;\n",
              "      gap: 12px;\n",
              "    }\n",
              "\n",
              "    .colab-df-convert {\n",
              "      background-color: #E8F0FE;\n",
              "      border: none;\n",
              "      border-radius: 50%;\n",
              "      cursor: pointer;\n",
              "      display: none;\n",
              "      fill: #1967D2;\n",
              "      height: 32px;\n",
              "      padding: 0 0 0 0;\n",
              "      width: 32px;\n",
              "    }\n",
              "\n",
              "    .colab-df-convert:hover {\n",
              "      background-color: #E2EBFA;\n",
              "      box-shadow: 0px 1px 2px rgba(60, 64, 67, 0.3), 0px 1px 3px 1px rgba(60, 64, 67, 0.15);\n",
              "      fill: #174EA6;\n",
              "    }\n",
              "\n",
              "    [theme=dark] .colab-df-convert {\n",
              "      background-color: #3B4455;\n",
              "      fill: #D2E3FC;\n",
              "    }\n",
              "\n",
              "    [theme=dark] .colab-df-convert:hover {\n",
              "      background-color: #434B5C;\n",
              "      box-shadow: 0px 1px 3px 1px rgba(0, 0, 0, 0.15);\n",
              "      filter: drop-shadow(0px 1px 2px rgba(0, 0, 0, 0.3));\n",
              "      fill: #FFFFFF;\n",
              "    }\n",
              "  </style>\n",
              "\n",
              "      <script>\n",
              "        const buttonEl =\n",
              "          document.querySelector('#df-c15f61ca-ae2f-49bc-a564-badb44a72842 button.colab-df-convert');\n",
              "        buttonEl.style.display =\n",
              "          google.colab.kernel.accessAllowed ? 'block' : 'none';\n",
              "\n",
              "        async function convertToInteractive(key) {\n",
              "          const element = document.querySelector('#df-c15f61ca-ae2f-49bc-a564-badb44a72842');\n",
              "          const dataTable =\n",
              "            await google.colab.kernel.invokeFunction('convertToInteractive',\n",
              "                                                     [key], {});\n",
              "          if (!dataTable) return;\n",
              "\n",
              "          const docLinkHtml = 'Like what you see? Visit the ' +\n",
              "            '<a target=\"_blank\" href=https://colab.research.google.com/notebooks/data_table.ipynb>data table notebook</a>'\n",
              "            + ' to learn more about interactive tables.';\n",
              "          element.innerHTML = '';\n",
              "          dataTable['output_type'] = 'display_data';\n",
              "          await google.colab.output.renderOutput(dataTable, element);\n",
              "          const docLink = document.createElement('div');\n",
              "          docLink.innerHTML = docLinkHtml;\n",
              "          element.appendChild(docLink);\n",
              "        }\n",
              "      </script>\n",
              "    </div>\n",
              "  </div>\n",
              "  "
            ],
            "text/plain": [
              "   label  pixel0  pixel1  pixel2  pixel3  pixel4  pixel5  pixel6  pixel7  \\\n",
              "0      1       0       0       0       0       0       0       0       0   \n",
              "1      0       0       0       0       0       0       0       0       0   \n",
              "2      1       0       0       0       0       0       0       0       0   \n",
              "3      4       0       0       0       0       0       0       0       0   \n",
              "4      0       0       0       0       0       0       0       0       0   \n",
              "\n",
              "   pixel8  ...  pixel774  pixel775  pixel776  pixel777  pixel778  pixel779  \\\n",
              "0       0  ...         0         0         0         0         0         0   \n",
              "1       0  ...         0         0         0         0         0         0   \n",
              "2       0  ...         0         0         0         0         0         0   \n",
              "3       0  ...         0         0         0         0         0         0   \n",
              "4       0  ...         0         0         0         0         0         0   \n",
              "\n",
              "   pixel780  pixel781  pixel782  pixel783  \n",
              "0         0         0         0         0  \n",
              "1         0         0         0         0  \n",
              "2         0         0         0         0  \n",
              "3         0         0         0         0  \n",
              "4         0         0         0         0  \n",
              "\n",
              "[5 rows x 785 columns]"
            ]
          },
          "metadata": {},
          "execution_count": 6
        }
      ]
    },
    {
      "cell_type": "code",
      "source": [
        "data.shape"
      ],
      "metadata": {
        "colab": {
          "base_uri": "https://localhost:8080/"
        },
        "id": "-uwx7SGufNjZ",
        "outputId": "1b4c74cc-f382-4efb-b1e8-d2901b81c790"
      },
      "execution_count": 7,
      "outputs": [
        {
          "output_type": "execute_result",
          "data": {
            "text/plain": [
              "(42000, 785)"
            ]
          },
          "metadata": {},
          "execution_count": 7
        }
      ]
    },
    {
      "cell_type": "code",
      "source": [
        "# split dataset into a train and test set\n",
        "\n",
        "X_train, X_test, y_train, y_test = train_test_split(\n",
        "    data.drop(['label'], axis=1), # the images\n",
        "    data['label'], # the target\n",
        "    test_size = 0.1,\n",
        "    random_state=0)\n",
        "\n",
        "X_train.shape, X_test.shape"
      ],
      "metadata": {
        "id": "6NJ3e2ArjL1Z",
        "colab": {
          "base_uri": "https://localhost:8080/"
        },
        "outputId": "14110f25-1a67-42a7-be45-1a5334ea3278"
      },
      "execution_count": 8,
      "outputs": [
        {
          "output_type": "execute_result",
          "data": {
            "text/plain": [
              "((37800, 784), (4200, 784))"
            ]
          },
          "metadata": {},
          "execution_count": 8
        }
      ]
    },
    {
      "cell_type": "code",
      "source": [
        "# number of images for each digit\n",
        "\n",
        "g = sns.countplot(x=y_train)\n",
        "plt.xlabel('Digits')\n",
        "plt.ylabel('Number of images')"
      ],
      "metadata": {
        "id": "FoSqRqr-jLzB",
        "colab": {
          "base_uri": "https://localhost:8080/",
          "height": 296
        },
        "outputId": "b29003a9-137f-4a45-b81d-e3cf7556ec5f"
      },
      "execution_count": 9,
      "outputs": [
        {
          "output_type": "execute_result",
          "data": {
            "text/plain": [
              "Text(0, 0.5, 'Number of images')"
            ]
          },
          "metadata": {},
          "execution_count": 9
        },
        {
          "output_type": "display_data",
          "data": {
            "image/png": "[encoded data removed]",
            "text/plain": [
              "<Figure size 432x288 with 1 Axes>"
            ]
          },
          "metadata": {
            "needs_background": "light"
          }
        }
      ]
    },
    {
      "cell_type": "markdown",
      "metadata": {
        "_cell_guid": "6812040d-80ad-43d2-a571-275f4f20067b",
        "_uuid": "2954681f25f0dcbe986e6914396cdbce61db591f",
        "id": "cjcAG_TtcPZG"
      },
      "source": [
        "## Image re-scaling\n",
        "\n",
        "We re-scale data for the CNN, between 0 and 1."
      ]
    },
    {
      "cell_type": "code",
      "execution_count": 10,
      "metadata": {
        "_cell_guid": "cdc4340b-6e24-4e12-be99-ac806098ff17",
        "_execution_state": "idle",
        "_uuid": "b5d4f8fcf2a967e2c7d57daedf95aa8c5ab7f8cb",
        "id": "m_Up6AEhcPZH"
      },
      "outputs": [],
      "source": [
        "# Re-scale the data\n",
        "\n",
        "# 255 is the maximum value a pixel can take\n",
        "\n",
        "X_train = X_train / 255\n",
        "X_test = X_test / 255"
      ]
    },
    {
      "cell_type": "markdown",
      "metadata": {
        "_cell_guid": "7413df94-bcb9-4f75-b174-c127d4445766",
        "_uuid": "a66741bf1ac597094f3a3166877008feef27c519",
        "id": "rA21hiFpcPZI"
      },
      "source": [
        "## Reshape\n",
        "\n",
        "The images were stored in a pandas dataframe as 1-D vectors of 784 values. For a CNN with Keras, we need tensors with the following dimensions: width x height x channel. \n",
        "\n",
        "Thus, we reshape all data to 28 x 2 8 x 1, 3-D matrices. \n",
        "\n",
        "The 3rd dimension corresponds to the channel. RGB images have 3 channels. MNIST images are in gray-scale, thus they have only one channel in the 3rd dimension."
      ]
    },
    {
      "cell_type": "code",
      "execution_count": 11,
      "metadata": {
        "_cell_guid": "34b6a5f7-8fd2-4387-8ef4-c9dc19584fed",
        "_execution_state": "idle",
        "_uuid": "f0a6ad80dab8e0f2c2e46165ccd9cd82dd162bc3",
        "id": "bUn83jdGcPZJ"
      },
      "outputs": [],
      "source": [
        "# Reshape image in 3 dimensions:\n",
        "# height: 28px X width: 28px X channel: 1 \n",
        "\n",
        "X_train = X_train.values.reshape(-1,28,28,1)\n",
        "X_test = X_test.values.reshape(-1,28,28,1)"
      ]
    },
    {
      "cell_type": "markdown",
      "metadata": {
        "_cell_guid": "bdb422e2-bdec-444f-97a5-283a1e54bf2c",
        "_uuid": "39b7a31e843bac6b705461bcce89da216b91799e",
        "id": "vxOr3SEacPZK"
      },
      "source": [
        "## Target encoding"
      ]
    },
    {
      "cell_type": "code",
      "execution_count": 12,
      "metadata": {
        "id": "klKRSCD_cPZL",
        "outputId": "484d5de7-aec3-4559-8dab-290a01feceee",
        "colab": {
          "base_uri": "https://localhost:8080/"
        }
      },
      "outputs": [
        {
          "output_type": "execute_result",
          "data": {
            "text/plain": [
              "array([2, 0, 7, 4, 3, 5, 9, 6, 8, 1])"
            ]
          },
          "metadata": {},
          "execution_count": 12
        }
      ],
      "source": [
        "# the target is 1 variable with the 9 different digits\n",
        "# as values\n",
        "\n",
        "y_train.unique()"
      ]
    },
    {
      "cell_type": "markdown",
      "metadata": {
        "_cell_guid": "adbeacf0-0dc0-4675-b2df-9c9663750f32",
        "_uuid": "60eed15ec5bc0d354385301789ecb8538fc02267",
        "id": "bw0DLV8CcPZN"
      },
      "source": [
        "Let's print some example images."
      ]
    },
    {
      "cell_type": "code",
      "execution_count": 13,
      "metadata": {
        "_cell_guid": "5f76131b-4ba0-45f1-a98c-bd4e7d561793",
        "_execution_state": "idle",
        "_uuid": "e0dae8943d3d35f075dba3d7ba31bde1d4bf2ff4",
        "id": "_hFK_SH_cPZO",
        "outputId": "0bb0f824-183e-480b-bd56-329c7d456d67",
        "colab": {
          "base_uri": "https://localhost:8080/",
          "height": 265
        }
      },
      "outputs": [
        {
          "output_type": "display_data",
          "data": {
            "image/png": "[encoded data removed]",
            "text/plain": [
              "<Figure size 432x288 with 1 Axes>"
            ]
          },
          "metadata": {
            "needs_background": "light"
          }
        }
      ],
      "source": [
        "# Some image examples \n",
        "\n",
        "g = plt.imshow(X_train[0][:,:,0])"
      ]
    },
    {
      "cell_type": "code",
      "execution_count": 14,
      "metadata": {
        "id": "glKKD2B0cPZO",
        "outputId": "76c7d1f7-8a06-4c53-dac0-9f7c6e3456b3",
        "colab": {
          "base_uri": "https://localhost:8080/",
          "height": 265
        }
      },
      "outputs": [
        {
          "output_type": "display_data",
          "data": {
            "image/png": "[encoded data removed]",
            "text/plain": [
              "<Figure size 432x288 with 1 Axes>"
            ]
          },
          "metadata": {
            "needs_background": "light"
          }
        }
      ],
      "source": [
        "# Some image examples \n",
        "\n",
        "g = plt.imshow(X_train[10][:,:,0])"
      ]
    },
    {
      "cell_type": "code",
      "source": [
        "# model analysis functions\n",
        "#Function for model evaluation\n",
        "# Model analysis modules\n",
        "import sklearn\n",
        "from sklearn.metrics import accuracy_score, average_precision_score\n",
        "from sklearn.metrics import confusion_matrix\n",
        "from sklearn.metrics import roc_curve, precision_recall_curve\n",
        "from sklearn.metrics import roc_auc_score\n",
        "from sklearn.metrics import log_loss\n",
        "from sklearn.metrics import precision_score, recall_score, f1_score\n",
        "# Function For analysing model\n",
        "def analyse(model, x_data, y_data, data_title):\n",
        "    pred = model.predict(x_data)\n",
        "    #cm = confusion_matrix(y_data, pred)\n",
        "    print(f'For {data_title} data')\n",
        "    Accuracy  = (accuracy_score(y_data, pred)).round(4)\n",
        "    Precision  = (precision_score(y_data, pred, average = 'micro')).round(4)  \n",
        "    Sensitivity = (recall_score(y_data, pred,  average = 'micro')).round(4)\n",
        "    F1 = f1_score(y_data, pred,  average = 'micro').round(4)\n",
        "   \n",
        "    \n",
        "    \n",
        "    #mat = pd.DataFrame(cm)\n",
        "    \n",
        "    \n",
        "    print('Accuracy:',Accuracy)\n",
        "    print('Precision:',Precision)\n",
        "    print('Sensitivity:',Sensitivity)\n",
        "    print('F1:', F1)\n",
        "    \n",
        "    "
      ],
      "metadata": {
        "id": "R-eIxq6I5gVN"
      },
      "execution_count": 47,
      "outputs": []
    },
    {
      "cell_type": "markdown",
      "source": [
        "## Define CNN Model"
      ],
      "metadata": {
        "id": "OWNTnHMeju3-"
      }
    },
    {
      "cell_type": "code",
      "source": [
        "# function to create the CNN\n",
        "\n",
        "def create_cnn(learning_rate= 0.01, num_dense_layers = 2, num_dense_nodes= 52,activation='relu'):\n",
        "    \"\"\"\n",
        "    Hyper-parameters:\n",
        "    learning_rate:     Learning-rate for the optimizer.\n",
        "    num_dense_layers:  Number of dense layers.\n",
        "    num_dense_nodes:   Number of nodes in each dense layer.\n",
        "    activation:        Activation function for all layers.\n",
        "    \"\"\"\n",
        "\n",
        "    # Start construction of a Keras Sequential model.\n",
        "    model = Sequential()\n",
        "\n",
        "    # First convolutional layer.\n",
        "    # There are many hyper-parameters in this layer\n",
        "    # For this demo, we will optimize the activation function only.\n",
        "    model.add(Conv2D(kernel_size=5, strides=1, filters=16, padding='same', input_shape=(28, 28, 1),\n",
        "                     activation=activation, name='layer_conv1'))\n",
        "    model.add(MaxPool2D(pool_size=2, strides=2))\n",
        "\n",
        "    # Second convolutional layer.\n",
        "    # Again, we will only optimize the activation function.\n",
        "    model.add(Conv2D(kernel_size=5, strides=1, filters=36, padding='same',\n",
        "                     activation=activation, name='layer_conv2'))\n",
        "    model.add(MaxPool2D(pool_size=2, strides=2))\n",
        "\n",
        "    # Flatten the 4-rank output of the convolutional layers\n",
        "    # to 2-rank that can be input to a fully-connected Dense layer.\n",
        "    model.add(Flatten())\n",
        "\n",
        "    # Add fully-connected Dense layers.\n",
        "    # The number of layers is a hyper-parameter we want to optimize.\n",
        "    # We add the different number of layers in the following loop:\n",
        "    \n",
        "    for i in range(num_dense_layers):\n",
        "        \n",
        "        # Add the dense fully-connected layer to the model.\n",
        "        # This has two hyper-parameters we want to optimize:\n",
        "        # The number of nodes (neurons) and the activation function.\n",
        "        model.add(Dense(num_dense_nodes,\n",
        "                        activation=activation,\n",
        "                        ))\n",
        "\n",
        "    # Last fully-connected dense layer with softmax-activation\n",
        "    # for use in classification.\n",
        "    model.add(Dense(10, activation='softmax'))\n",
        "\n",
        "    # Use the Adam method for training the network.\n",
        "    # We want to find the best learning-rate for the Adam method.\n",
        "    optimizer = Adam(learning_rate=learning_rate)\n",
        "\n",
        "    # In Keras we need to compile the model so it can be trained.\n",
        "    model.compile(optimizer=optimizer,\n",
        "                  loss='categorical_crossentropy',\n",
        "                  metrics=['accuracy'])\n",
        "\n",
        "    return model"
      ],
      "metadata": {
        "id": "goY95UpzjLoA"
      },
      "execution_count": 29,
      "outputs": []
    },
    {
      "cell_type": "code",
      "source": [
        "cnn1 = create_cnn(learning_rate= 0.01, num_dense_layers = 2, num_dense_nodes= 52,activation='relu')\n",
        "cnn1.summary()"
      ],
      "metadata": {
        "colab": {
          "base_uri": "https://localhost:8080/"
        },
        "id": "DTU5nREMsF58",
        "outputId": "f1513bd1-f36f-49ee-d3ea-6fcd1b2673ea"
      },
      "execution_count": null,
      "outputs": [
        {
          "output_type": "stream",
          "name": "stdout",
          "text": [
            "Model: \"sequential\"\n",
            "_________________________________________________________________\n",
            " Layer (type)                Output Shape              Param #   \n",
            "=================================================================\n",
            " layer_conv1 (Conv2D)        (None, 28, 28, 16)        416       \n",
            "                                                                 \n",
            " max_pooling2d (MaxPooling2D  (None, 14, 14, 16)       0         \n",
            " )                                                               \n",
            "                                                                 \n",
            " layer_conv2 (Conv2D)        (None, 14, 14, 36)        14436     \n",
            "                                                                 \n",
            " max_pooling2d_1 (MaxPooling  (None, 7, 7, 36)         0         \n",
            " 2D)                                                             \n",
            "                                                                 \n",
            " flatten (Flatten)           (None, 1764)              0         \n",
            "                                                                 \n",
            " dense (Dense)               (None, 52)                91780     \n",
            "                                                                 \n",
            " dense_1 (Dense)             (None, 52)                2756      \n",
            "                                                                 \n",
            " dense_2 (Dense)             (None, 10)                530       \n",
            "                                                                 \n",
            "=================================================================\n",
            "Total params: 109,918\n",
            "Trainable params: 109,918\n",
            "Non-trainable params: 0\n",
            "_________________________________________________________________\n"
          ]
        }
      ]
    },
    {
      "cell_type": "code",
      "source": [
        "from keras.wrappers.scikit_learn import KerasClassifier\n",
        "\n",
        "model = KerasClassifier(build_fn=create_cnn, epochs=25, batch_size=10, verbose=0)\n",
        "\n"
      ],
      "metadata": {
        "colab": {
          "base_uri": "https://localhost:8080/"
        },
        "id": "qaQN1qniry9r",
        "outputId": "72c2bcae-5aac-40ad-e3e0-f9b4d742ba19"
      },
      "execution_count": 30,
      "outputs": [
        {
          "output_type": "stream",
          "name": "stderr",
          "text": [
            "/usr/local/lib/python3.7/dist-packages/ipykernel_launcher.py:3: DeprecationWarning: KerasClassifier is deprecated, use Sci-Keras (https://github.com/adriangb/scikeras) instead. See https://www.adriangb.com/scikeras/stable/migration.html for help migrating.\n",
            "  This is separate from the ipykernel package so we can avoid doing imports until\n"
          ]
        }
      ]
    },
    {
      "cell_type": "code",
      "source": [
        "model.fit(X_train, y_train)\n"
      ],
      "metadata": {
        "id": "_G_Etv8aIMuB",
        "colab": {
          "base_uri": "https://localhost:8080/"
        },
        "outputId": "af8eb148-f115-420b-fa7b-2089b4589f9b"
      },
      "execution_count": 37,
      "outputs": [
        {
          "output_type": "execute_result",
          "data": {
            "text/plain": [
              "<keras.callbacks.History at 0x7fa8301f29d0>"
            ]
          },
          "metadata": {},
          "execution_count": 37
        }
      ]
    },
    {
      "cell_type": "code",
      "source": [
        "analyse(model, X_train, y_train, 'Training')"
      ],
      "metadata": {
        "colab": {
          "base_uri": "https://localhost:8080/"
        },
        "id": "Mbhz-3I-626h",
        "outputId": "db2f754f-8d89-4caf-b0cc-9bb8af7f024f"
      },
      "execution_count": 40,
      "outputs": [
        {
          "output_type": "stream",
          "name": "stdout",
          "text": [
            "For Training data\n",
            "Accuracy: 0.6724\n",
            "Precision: 0.6724\n",
            "Sensitivity: 0.6724\n",
            "F1: 0.6724\n"
          ]
        }
      ]
    },
    {
      "cell_type": "code",
      "source": [
        "analyse(model, X_test, y_test, 'Testing')"
      ],
      "metadata": {
        "colab": {
          "base_uri": "https://localhost:8080/"
        },
        "id": "rNxDT0tY8WA1",
        "outputId": "c3b510a8-251e-42f8-82bf-95eea479c8fa"
      },
      "execution_count": 41,
      "outputs": [
        {
          "output_type": "stream",
          "name": "stdout",
          "text": [
            "For Testing data\n",
            "Accuracy: 0.6717\n",
            "Precision: 0.6717\n",
            "Sensitivity: 0.6717\n",
            "F1: 0.6717\n"
          ]
        }
      ]
    },
    {
      "cell_type": "code",
      "source": [
        "from scipy import stats\n",
        "import numpy as np\n",
        "param_dist = {'num_dense_nodes':stats.randint(10, 500),\n",
        "          'activation':np.random.choice(['sigmoid','relu'],1),\n",
        "          'num_dense_layers':stats.randint(2, 6),\n",
        "          'learning_rate':stats.uniform(1e-6, 1e-2)}\n",
        "\n",
        "from sklearn.model_selection import RandomizedSearchCV\n",
        "\n",
        "random_search = RandomizedSearchCV(model, param_dist, cv = 2, n_iter = 20, refit = True, scoring = 'accuracy')\n",
        "import time\n",
        "\n",
        "start = time.time()\n",
        "random_search.fit(X_train, y_train)\n",
        "end = time.time()\n",
        "fit_time = end - start\n",
        "print('Fit_time: ', fit_time)"
      ],
      "metadata": {
        "id": "kft0Ex7uuJmR",
        "colab": {
          "base_uri": "https://localhost:8080/"
        },
        "outputId": "4cfa7073-96bc-4af0-faf2-b3489c24bc92"
      },
      "execution_count": 17,
      "outputs": [
        {
          "output_type": "stream",
          "name": "stdout",
          "text": [
            "Fit_time:  5609.338055849075\n"
          ]
        }
      ]
    },
    {
      "cell_type": "code",
      "source": [
        "random_search.best_params_"
      ],
      "metadata": {
        "id": "eikAJfA8uJjK",
        "colab": {
          "base_uri": "https://localhost:8080/"
        },
        "outputId": "516cd3e9-ce3d-400f-b82f-0d93f0413651"
      },
      "execution_count": 19,
      "outputs": [
        {
          "output_type": "execute_result",
          "data": {
            "text/plain": [
              "{'activation': 'relu',\n",
              " 'learning_rate': 0.0014501016196374727,\n",
              " 'num_dense_layers': 2,\n",
              " 'num_dense_nodes': 465}"
            ]
          },
          "metadata": {},
          "execution_count": 19
        }
      ]
    },
    {
      "cell_type": "code",
      "source": [
        "# function to create the CNN\n",
        "\n",
        "def create_cnn(learning_rate=  0.0014501016196374727, num_dense_layers = 2, num_dense_nodes= 465,activation='relu'):\n",
        "    \"\"\"\n",
        "    Hyper-parameters:\n",
        "    learning_rate:     Learning-rate for the optimizer.\n",
        "    num_dense_layers:  Number of dense layers.\n",
        "    num_dense_nodes:   Number of nodes in each dense layer.\n",
        "    activation:        Activation function for all layers.\n",
        "    \"\"\"\n",
        "\n",
        "    # Start construction of a Keras Sequential model.\n",
        "    model = Sequential()\n",
        "\n",
        "    # First convolutional layer.\n",
        "    # There are many hyper-parameters in this layer\n",
        "    # For this demo, we will optimize the activation function only.\n",
        "    model.add(Conv2D(kernel_size=5, strides=1, filters=16, padding='same', input_shape=(28, 28, 1),\n",
        "                     activation=activation, name='layer_conv1'))\n",
        "    model.add(MaxPool2D(pool_size=2, strides=2))\n",
        "\n",
        "    # Second convolutional layer.\n",
        "    # Again, we will only optimize the activation function.\n",
        "    model.add(Conv2D(kernel_size=5, strides=1, filters=36, padding='same',\n",
        "                     activation=activation, name='layer_conv2'))\n",
        "    model.add(MaxPool2D(pool_size=2, strides=2))\n",
        "\n",
        "    # Flatten the 4-rank output of the convolutional layers\n",
        "    # to 2-rank that can be input to a fully-connected Dense layer.\n",
        "    model.add(Flatten())\n",
        "\n",
        "    # Add fully-connected Dense layers.\n",
        "    # The number of layers is a hyper-parameter we want to optimize.\n",
        "    # We add the different number of layers in the following loop:\n",
        "    \n",
        "    for i in range(num_dense_layers):\n",
        "        \n",
        "        # Add the dense fully-connected layer to the model.\n",
        "        # This has two hyper-parameters we want to optimize:\n",
        "        # The number of nodes (neurons) and the activation function.\n",
        "        model.add(Dense(num_dense_nodes,\n",
        "                        activation=activation,\n",
        "                        ))\n",
        "\n",
        "    # Last fully-connected dense layer with softmax-activation\n",
        "    # for use in classification.\n",
        "    model.add(Dense(10, activation='softmax'))\n",
        "\n",
        "    # Use the Adam method for training the network.\n",
        "    # We want to find the best learning-rate for the Adam method.\n",
        "    optimizer = Adam(learning_rate=learning_rate)\n",
        "\n",
        "    # In Keras we need to compile the model so it can be trained.\n",
        "    model.compile(optimizer=optimizer,\n",
        "                  loss='categorical_crossentropy',\n",
        "                  metrics=['accuracy'])\n",
        "\n",
        "    return model"
      ],
      "metadata": {
        "id": "JC79eXOhgADH"
      },
      "execution_count": 42,
      "outputs": []
    },
    {
      "cell_type": "code",
      "source": [
        "from tensorflow.keras.callbacks import EarlyStopping\n",
        "from keras.wrappers.scikit_learn import KerasClassifier\n",
        "es = EarlyStopping( monitor=\"accuracy\", min_delta=0.001, patience=5, verbose=0)\n",
        "model = KerasClassifier(build_fn=create_cnn, epochs=50, batch_size=10, verbose=0, callbacks= es)"
      ],
      "metadata": {
        "id": "sFJv10XxuJhK",
        "colab": {
          "base_uri": "https://localhost:8080/"
        },
        "outputId": "804a8887-6bef-4c4d-8d1b-46981f1c13b7"
      },
      "execution_count": 43,
      "outputs": [
        {
          "output_type": "stream",
          "name": "stderr",
          "text": [
            "/usr/local/lib/python3.7/dist-packages/ipykernel_launcher.py:4: DeprecationWarning: KerasClassifier is deprecated, use Sci-Keras (https://github.com/adriangb/scikeras) instead. See https://www.adriangb.com/scikeras/stable/migration.html for help migrating.\n",
            "  after removing the cwd from sys.path.\n"
          ]
        }
      ]
    },
    {
      "cell_type": "code",
      "source": [
        "model.fit(X_train, y_train)\n"
      ],
      "metadata": {
        "colab": {
          "base_uri": "https://localhost:8080/"
        },
        "id": "QrPFwdmreOkU",
        "outputId": "e760f6ff-5b80-4ea4-901a-f3ff52828988"
      },
      "execution_count": 44,
      "outputs": [
        {
          "output_type": "execute_result",
          "data": {
            "text/plain": [
              "<keras.callbacks.History at 0x7fa83003a410>"
            ]
          },
          "metadata": {},
          "execution_count": 44
        }
      ]
    },
    {
      "cell_type": "code",
      "source": [
        "analyse(model, X_train, y_train, 'Training')"
      ],
      "metadata": {
        "colab": {
          "base_uri": "https://localhost:8080/"
        },
        "id": "4k-XDsyAhxCx",
        "outputId": "5b6d611f-7b57-499c-f6a7-dde2df34299a"
      },
      "execution_count": 48,
      "outputs": [
        {
          "output_type": "stream",
          "name": "stdout",
          "text": [
            "For Training data\n",
            "Accuracy: 0.9973\n",
            "Precision: 0.9973\n",
            "Sensitivity: 0.9973\n",
            "F1: 0.9973\n"
          ]
        }
      ]
    },
    {
      "cell_type": "code",
      "source": [
        "analyse(model, X_test, y_test, 'Testing')"
      ],
      "metadata": {
        "colab": {
          "base_uri": "https://localhost:8080/"
        },
        "id": "g7psdBWUerfv",
        "outputId": "a5601e27-dc17-4221-efff-c66b149b684a"
      },
      "execution_count": 49,
      "outputs": [
        {
          "output_type": "stream",
          "name": "stdout",
          "text": [
            "For Testing data\n",
            "Accuracy: 0.9852\n",
            "Precision: 0.9852\n",
            "Sensitivity: 0.9852\n",
            "F1: 0.9852\n"
          ]
        }
      ]
    },
    {
      "cell_type": "code",
      "source": [
        ""
      ],
      "metadata": {
        "id": "mlLJfl1qgTyP"
      },
      "execution_count": null,
      "outputs": []
    }
  ]
}